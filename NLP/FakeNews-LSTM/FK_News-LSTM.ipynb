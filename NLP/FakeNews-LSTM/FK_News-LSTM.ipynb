{
 "cells": [
  {
   "cell_type": "code",
   "execution_count": 1,
   "metadata": {},
   "outputs": [],
   "source": [
    "import time\n",
    "start_time = time.time()"
   ]
  },
  {
   "cell_type": "code",
   "execution_count": 2,
   "metadata": {},
   "outputs": [],
   "source": [
    "# Importing the Libraries\n",
    "import pandas as pd\n",
    "import numpy as np\n",
    "import tensorflow as tf\n",
    "import keras\n",
    "import random\n",
    "import re"
   ]
  },
  {
   "cell_type": "code",
   "execution_count": 3,
   "metadata": {},
   "outputs": [],
   "source": [
    "# Reading the files from the folder\n",
    "\n",
    "fake_news_df = pd.read_csv('Fake.csv')\n",
    "true_news_df = pd.read_csv('True.csv')"
   ]
  },
  {
   "cell_type": "code",
   "execution_count": 4,
   "metadata": {},
   "outputs": [
    {
     "data": {
      "text/html": [
       "<div>\n",
       "<style scoped>\n",
       "    .dataframe tbody tr th:only-of-type {\n",
       "        vertical-align: middle;\n",
       "    }\n",
       "\n",
       "    .dataframe tbody tr th {\n",
       "        vertical-align: top;\n",
       "    }\n",
       "\n",
       "    .dataframe thead th {\n",
       "        text-align: right;\n",
       "    }\n",
       "</style>\n",
       "<table border=\"1\" class=\"dataframe\">\n",
       "  <thead>\n",
       "    <tr style=\"text-align: right;\">\n",
       "      <th></th>\n",
       "      <th>title</th>\n",
       "      <th>text</th>\n",
       "      <th>subject</th>\n",
       "      <th>date</th>\n",
       "    </tr>\n",
       "  </thead>\n",
       "  <tbody>\n",
       "    <tr>\n",
       "      <th>8271</th>\n",
       "      <td>Superstar Marc Anthony Rocks Madison Square G...</td>\n",
       "      <td>If Donald Trump had been at Madison Square Gar...</td>\n",
       "      <td>News</td>\n",
       "      <td>February 7, 2016</td>\n",
       "    </tr>\n",
       "    <tr>\n",
       "      <th>22802</th>\n",
       "      <td>Liberal Imperium: Quigley’s Anglo-American Est...</td>\n",
       "      <td>Jay Dyer 21st Century WireThis is an addendum ...</td>\n",
       "      <td>Middle-east</td>\n",
       "      <td>August 25, 2017</td>\n",
       "    </tr>\n",
       "  </tbody>\n",
       "</table>\n",
       "</div>"
      ],
      "text/plain": [
       "                                                   title  \\\n",
       "8271    Superstar Marc Anthony Rocks Madison Square G...   \n",
       "22802  Liberal Imperium: Quigley’s Anglo-American Est...   \n",
       "\n",
       "                                                    text      subject  \\\n",
       "8271   If Donald Trump had been at Madison Square Gar...         News   \n",
       "22802  Jay Dyer 21st Century WireThis is an addendum ...  Middle-east   \n",
       "\n",
       "                   date  \n",
       "8271   February 7, 2016  \n",
       "22802   August 25, 2017  "
      ]
     },
     "metadata": {},
     "output_type": "display_data"
    },
    {
     "data": {
      "text/html": [
       "<div>\n",
       "<style scoped>\n",
       "    .dataframe tbody tr th:only-of-type {\n",
       "        vertical-align: middle;\n",
       "    }\n",
       "\n",
       "    .dataframe tbody tr th {\n",
       "        vertical-align: top;\n",
       "    }\n",
       "\n",
       "    .dataframe thead th {\n",
       "        text-align: right;\n",
       "    }\n",
       "</style>\n",
       "<table border=\"1\" class=\"dataframe\">\n",
       "  <thead>\n",
       "    <tr style=\"text-align: right;\">\n",
       "      <th></th>\n",
       "      <th>title</th>\n",
       "      <th>text</th>\n",
       "      <th>subject</th>\n",
       "      <th>date</th>\n",
       "    </tr>\n",
       "  </thead>\n",
       "  <tbody>\n",
       "    <tr>\n",
       "      <th>21053</th>\n",
       "      <td>Kenya to hold new presidential vote on Oct. 17...</td>\n",
       "      <td>NAIROBI (Reuters) - Kenya will hold a new pres...</td>\n",
       "      <td>worldnews</td>\n",
       "      <td>September 4, 2017</td>\n",
       "    </tr>\n",
       "    <tr>\n",
       "      <th>6335</th>\n",
       "      <td>U.S. House clears way for vote to start Obamac...</td>\n",
       "      <td>WASHINGTON (Reuters) - A majority of the U.S. ...</td>\n",
       "      <td>politicsNews</td>\n",
       "      <td>January 13, 2017</td>\n",
       "    </tr>\n",
       "  </tbody>\n",
       "</table>\n",
       "</div>"
      ],
      "text/plain": [
       "                                                   title  \\\n",
       "21053  Kenya to hold new presidential vote on Oct. 17...   \n",
       "6335   U.S. House clears way for vote to start Obamac...   \n",
       "\n",
       "                                                    text       subject  \\\n",
       "21053  NAIROBI (Reuters) - Kenya will hold a new pres...     worldnews   \n",
       "6335   WASHINGTON (Reuters) - A majority of the U.S. ...  politicsNews   \n",
       "\n",
       "                     date  \n",
       "21053  September 4, 2017   \n",
       "6335    January 13, 2017   "
      ]
     },
     "metadata": {},
     "output_type": "display_data"
    }
   ],
   "source": [
    "# Check the random instances of the data\n",
    "\n",
    "display(fake_news_df.sample(2), true_news_df.sample(2))"
   ]
  },
  {
   "cell_type": "code",
   "execution_count": null,
   "metadata": {},
   "outputs": [],
   "source": []
  },
  {
   "cell_type": "markdown",
   "metadata": {},
   "source": [
    "## Data Cleaning Functions"
   ]
  },
  {
   "cell_type": "code",
   "execution_count": 5,
   "metadata": {},
   "outputs": [],
   "source": [
    "## Data Cleaning  ###\n",
    "\n",
    "# Remove the HTML text/phases from the data\n",
    "def remove_html(text):\n",
    "    new_text = re.sub(r'''(?i)\\b((?:https?://|www\\d{0,3}[.]|[a-z0-9.\\-]+[.][a-z]{2,4}/)(?:[^\\s()<>]+|\\(([^\\s()<>]+|(\\([^\\s()<>]+\\)))*\\))+(?:\\(([^\\s()<>]+|(\\([^\\s()<>]+\\)))*\\)|[^\\s`!()\\[\\]{};:'\".,<>?«»“”‘’]))''', \"\", text)\n",
    "    return(new_text)\n",
    "\n",
    "# Count the lenght of the string\n",
    "def len_text(text):\n",
    "    text_len = len(text.split())\n",
    "    return(text_len)\n",
    "    \n",
    "# Remove White Spaces\n",
    "def remove_white_space(text):\n",
    "    text = re.sub(\"^\\s+|\\s+$\", \"\", text, flags=re.UNICODE) # Remove spaces both in beginining and in the end of a string\n",
    "    text = \" \".join(re.split(\"\\s+\", text, flags=re.UNICODE)) # Remove spaces from duplicate spaces\n",
    "    return(text)"
   ]
  },
  {
   "cell_type": "markdown",
   "metadata": {},
   "source": [
    "## Data Analysis (Before Data Cleaning)"
   ]
  },
  {
   "cell_type": "code",
   "execution_count": 6,
   "metadata": {},
   "outputs": [
    {
     "data": {
      "text/html": [
       "<div>\n",
       "<style scoped>\n",
       "    .dataframe tbody tr th:only-of-type {\n",
       "        vertical-align: middle;\n",
       "    }\n",
       "\n",
       "    .dataframe tbody tr th {\n",
       "        vertical-align: top;\n",
       "    }\n",
       "\n",
       "    .dataframe thead th {\n",
       "        text-align: right;\n",
       "    }\n",
       "</style>\n",
       "<table border=\"1\" class=\"dataframe\">\n",
       "  <thead>\n",
       "    <tr style=\"text-align: right;\">\n",
       "      <th></th>\n",
       "      <th>title</th>\n",
       "      <th>text</th>\n",
       "      <th>subject</th>\n",
       "      <th>date</th>\n",
       "    </tr>\n",
       "  </thead>\n",
       "  <tbody>\n",
       "    <tr>\n",
       "      <th>9564</th>\n",
       "      <td>HOUSE OF LIES: Pedophilia Allegations Levied A...</td>\n",
       "      <td>How should the gay community feel about the Tr...</td>\n",
       "      <td>politics</td>\n",
       "      <td>Oct 30, 2017</td>\n",
       "    </tr>\n",
       "    <tr>\n",
       "      <th>4101</th>\n",
       "      <td>GOP Lawmaker: ‘A Lady Needs To Be Told When S...</td>\n",
       "      <td>A Texas lawmaker just defended Donald Trump s ...</td>\n",
       "      <td>News</td>\n",
       "      <td>October 21, 2016</td>\n",
       "    </tr>\n",
       "  </tbody>\n",
       "</table>\n",
       "</div>"
      ],
      "text/plain": [
       "                                                  title  \\\n",
       "9564  HOUSE OF LIES: Pedophilia Allegations Levied A...   \n",
       "4101   GOP Lawmaker: ‘A Lady Needs To Be Told When S...   \n",
       "\n",
       "                                                   text   subject  \\\n",
       "9564  How should the gay community feel about the Tr...  politics   \n",
       "4101  A Texas lawmaker just defended Donald Trump s ...      News   \n",
       "\n",
       "                  date  \n",
       "9564      Oct 30, 2017  \n",
       "4101  October 21, 2016  "
      ]
     },
     "metadata": {},
     "output_type": "display_data"
    },
    {
     "data": {
      "text/html": [
       "<div>\n",
       "<style scoped>\n",
       "    .dataframe tbody tr th:only-of-type {\n",
       "        vertical-align: middle;\n",
       "    }\n",
       "\n",
       "    .dataframe tbody tr th {\n",
       "        vertical-align: top;\n",
       "    }\n",
       "\n",
       "    .dataframe thead th {\n",
       "        text-align: right;\n",
       "    }\n",
       "</style>\n",
       "<table border=\"1\" class=\"dataframe\">\n",
       "  <thead>\n",
       "    <tr style=\"text-align: right;\">\n",
       "      <th></th>\n",
       "      <th>title</th>\n",
       "      <th>text</th>\n",
       "      <th>subject</th>\n",
       "      <th>date</th>\n",
       "    </tr>\n",
       "  </thead>\n",
       "  <tbody>\n",
       "    <tr>\n",
       "      <th>18751</th>\n",
       "      <td>IAEA says North Korea's rapid weapons progress...</td>\n",
       "      <td>SEOUL (Reuters) - The United Nations nuclear w...</td>\n",
       "      <td>worldnews</td>\n",
       "      <td>September 29, 2017</td>\n",
       "    </tr>\n",
       "    <tr>\n",
       "      <th>15197</th>\n",
       "      <td>Philippines' Duterte offers to host 'world sum...</td>\n",
       "      <td>MANILA (Reuters) - Philippine President Rodrig...</td>\n",
       "      <td>worldnews</td>\n",
       "      <td>November 10, 2017</td>\n",
       "    </tr>\n",
       "  </tbody>\n",
       "</table>\n",
       "</div>"
      ],
      "text/plain": [
       "                                                   title  \\\n",
       "18751  IAEA says North Korea's rapid weapons progress...   \n",
       "15197  Philippines' Duterte offers to host 'world sum...   \n",
       "\n",
       "                                                    text    subject  \\\n",
       "18751  SEOUL (Reuters) - The United Nations nuclear w...  worldnews   \n",
       "15197  MANILA (Reuters) - Philippine President Rodrig...  worldnews   \n",
       "\n",
       "                      date  \n",
       "18751  September 29, 2017   \n",
       "15197   November 10, 2017   "
      ]
     },
     "metadata": {},
     "output_type": "display_data"
    }
   ],
   "source": [
    "display(fake_news_df.sample(2), true_news_df.sample(2))"
   ]
  },
  {
   "cell_type": "code",
   "execution_count": null,
   "metadata": {},
   "outputs": [],
   "source": []
  },
  {
   "cell_type": "markdown",
   "metadata": {},
   "source": [
    "##### FAKE News"
   ]
  },
  {
   "cell_type": "code",
   "execution_count": 7,
   "metadata": {},
   "outputs": [
    {
     "data": {
      "text/plain": [
       "{'Government News', 'Middle-east', 'News', 'US_News', 'left-news', 'politics'}"
      ]
     },
     "metadata": {},
     "output_type": "display_data"
    },
    {
     "data": {
      "text/plain": [
       "{'politicsNews', 'worldnews'}"
      ]
     },
     "metadata": {},
     "output_type": "display_data"
    }
   ],
   "source": [
    "display(set(fake_news_df['subject']), set(true_news_df['subject']))"
   ]
  },
  {
   "cell_type": "code",
   "execution_count": 8,
   "metadata": {},
   "outputs": [],
   "source": [
    "# Get the length of each instance\n",
    "fake_news_df['len_sent'] = fake_news_df['text'].apply(lambda x: len_text(x)) "
   ]
  },
  {
   "cell_type": "code",
   "execution_count": 9,
   "metadata": {},
   "outputs": [
    {
     "data": {
      "text/plain": [
       "News               9050\n",
       "politics           6841\n",
       "left-news          4459\n",
       "Government News    1570\n",
       "US_News             783\n",
       "Middle-east         778\n",
       "Name: subject, dtype: int64"
      ]
     },
     "execution_count": 9,
     "metadata": {},
     "output_type": "execute_result"
    }
   ],
   "source": [
    "fake_news_df['subject'].value_counts()"
   ]
  },
  {
   "cell_type": "code",
   "execution_count": 10,
   "metadata": {},
   "outputs": [
    {
     "data": {
      "text/html": [
       "<div>\n",
       "<style scoped>\n",
       "    .dataframe tbody tr th:only-of-type {\n",
       "        vertical-align: middle;\n",
       "    }\n",
       "\n",
       "    .dataframe tbody tr th {\n",
       "        vertical-align: top;\n",
       "    }\n",
       "\n",
       "    .dataframe thead tr th {\n",
       "        text-align: left;\n",
       "    }\n",
       "\n",
       "    .dataframe thead tr:last-of-type th {\n",
       "        text-align: right;\n",
       "    }\n",
       "</style>\n",
       "<table border=\"1\" class=\"dataframe\">\n",
       "  <thead>\n",
       "    <tr>\n",
       "      <th></th>\n",
       "      <th colspan=\"8\" halign=\"left\">len_sent</th>\n",
       "    </tr>\n",
       "    <tr>\n",
       "      <th></th>\n",
       "      <th>count</th>\n",
       "      <th>mean</th>\n",
       "      <th>std</th>\n",
       "      <th>min</th>\n",
       "      <th>25%</th>\n",
       "      <th>50%</th>\n",
       "      <th>75%</th>\n",
       "      <th>max</th>\n",
       "    </tr>\n",
       "    <tr>\n",
       "      <th>subject</th>\n",
       "      <th></th>\n",
       "      <th></th>\n",
       "      <th></th>\n",
       "      <th></th>\n",
       "      <th></th>\n",
       "      <th></th>\n",
       "      <th></th>\n",
       "      <th></th>\n",
       "    </tr>\n",
       "  </thead>\n",
       "  <tbody>\n",
       "    <tr>\n",
       "      <th>Government News</th>\n",
       "      <td>1570.0</td>\n",
       "      <td>387.404459</td>\n",
       "      <td>389.428324</td>\n",
       "      <td>0.0</td>\n",
       "      <td>155.00</td>\n",
       "      <td>304.5</td>\n",
       "      <td>506.0</td>\n",
       "      <td>4547.0</td>\n",
       "    </tr>\n",
       "    <tr>\n",
       "      <th>Middle-east</th>\n",
       "      <td>778.0</td>\n",
       "      <td>772.548843</td>\n",
       "      <td>1040.851331</td>\n",
       "      <td>24.0</td>\n",
       "      <td>182.25</td>\n",
       "      <td>351.5</td>\n",
       "      <td>919.5</td>\n",
       "      <td>8135.0</td>\n",
       "    </tr>\n",
       "    <tr>\n",
       "      <th>News</th>\n",
       "      <td>9050.0</td>\n",
       "      <td>441.253812</td>\n",
       "      <td>152.060179</td>\n",
       "      <td>36.0</td>\n",
       "      <td>344.00</td>\n",
       "      <td>410.0</td>\n",
       "      <td>506.0</td>\n",
       "      <td>3909.0</td>\n",
       "    </tr>\n",
       "    <tr>\n",
       "      <th>US_News</th>\n",
       "      <td>783.0</td>\n",
       "      <td>780.527458</td>\n",
       "      <td>1049.778528</td>\n",
       "      <td>24.0</td>\n",
       "      <td>183.00</td>\n",
       "      <td>355.0</td>\n",
       "      <td>927.5</td>\n",
       "      <td>8135.0</td>\n",
       "    </tr>\n",
       "    <tr>\n",
       "      <th>left-news</th>\n",
       "      <td>4459.0</td>\n",
       "      <td>392.736264</td>\n",
       "      <td>363.389015</td>\n",
       "      <td>0.0</td>\n",
       "      <td>186.50</td>\n",
       "      <td>318.0</td>\n",
       "      <td>509.5</td>\n",
       "      <td>7033.0</td>\n",
       "    </tr>\n",
       "    <tr>\n",
       "      <th>politics</th>\n",
       "      <td>6841.0</td>\n",
       "      <td>346.752083</td>\n",
       "      <td>369.246542</td>\n",
       "      <td>0.0</td>\n",
       "      <td>120.00</td>\n",
       "      <td>276.0</td>\n",
       "      <td>462.0</td>\n",
       "      <td>7033.0</td>\n",
       "    </tr>\n",
       "  </tbody>\n",
       "</table>\n",
       "</div>"
      ],
      "text/plain": [
       "                len_sent                                                       \\\n",
       "                   count        mean          std   min     25%    50%    75%   \n",
       "subject                                                                         \n",
       "Government News   1570.0  387.404459   389.428324   0.0  155.00  304.5  506.0   \n",
       "Middle-east        778.0  772.548843  1040.851331  24.0  182.25  351.5  919.5   \n",
       "News              9050.0  441.253812   152.060179  36.0  344.00  410.0  506.0   \n",
       "US_News            783.0  780.527458  1049.778528  24.0  183.00  355.0  927.5   \n",
       "left-news         4459.0  392.736264   363.389015   0.0  186.50  318.0  509.5   \n",
       "politics          6841.0  346.752083   369.246542   0.0  120.00  276.0  462.0   \n",
       "\n",
       "                         \n",
       "                    max  \n",
       "subject                  \n",
       "Government News  4547.0  \n",
       "Middle-east      8135.0  \n",
       "News             3909.0  \n",
       "US_News          8135.0  \n",
       "left-news        7033.0  \n",
       "politics         7033.0  "
      ]
     },
     "execution_count": 10,
     "metadata": {},
     "output_type": "execute_result"
    }
   ],
   "source": [
    "# Analyse the description of each group in the subject feature\n",
    "fake_news_df.groupby(['subject']).describe()"
   ]
  },
  {
   "cell_type": "markdown",
   "metadata": {},
   "source": [
    "#### Conclusion for Statistical analysis on Fake News Dataframe\n",
    "\n",
    "- Maximum instances of possess by \"News\" with 9050 instances, followed by \"politics\" [6841], \"left-news\" [4459], \"Govt News\" [1570], \"US_news\" [783], and \"Middle-east\" [778]\n",
    "- The news corpus is largely aligned towards the \"left-news\" and \"politics\" \n",
    "- The minimum number of text in Middle-east, News and US_News starts from 24, 36 and 24, respectively.\n",
    "- There are various instances in Govt News, left-news and politics whether the news is empty"
   ]
  },
  {
   "cell_type": "code",
   "execution_count": null,
   "metadata": {},
   "outputs": [],
   "source": []
  },
  {
   "cell_type": "code",
   "execution_count": null,
   "metadata": {},
   "outputs": [],
   "source": [
    "random.seed(123)\n",
    "fake_news_df[fake_news_df['subject']=='politics']['text'].sample(2, random_state=123).to_list()"
   ]
  },
  {
   "cell_type": "code",
   "execution_count": null,
   "metadata": {},
   "outputs": [],
   "source": []
  },
  {
   "cell_type": "markdown",
   "metadata": {},
   "source": [
    "## Data Analysis (After Data Cleaning)"
   ]
  },
  {
   "cell_type": "code",
   "execution_count": null,
   "metadata": {},
   "outputs": [],
   "source": [
    "fake_news_df.head(1)"
   ]
  },
  {
   "cell_type": "code",
   "execution_count": null,
   "metadata": {},
   "outputs": [],
   "source": [
    "fake_news_df['text'] = fake_news_df['text'].apply(lambda x: remove_html(x))\n",
    "fake_news_df['text'] = fake_news_df['text'].apply(lambda x: remove_white_space(x))\n",
    "fake_news_df['len_sent'] = fake_news_df['text'].apply(lambda x: len_text(x)) "
   ]
  },
  {
   "cell_type": "code",
   "execution_count": null,
   "metadata": {},
   "outputs": [],
   "source": [
    "fake_news_df.sample(2)"
   ]
  },
  {
   "cell_type": "code",
   "execution_count": null,
   "metadata": {},
   "outputs": [],
   "source": [
    "## Analysis on Sentence Length\n",
    "fake_news_df.describe()"
   ]
  },
  {
   "cell_type": "code",
   "execution_count": null,
   "metadata": {},
   "outputs": [],
   "source": [
    "# Check the number of sentences below 10 word length\n",
    "fake_news_df[fake_news_df['len_sent'] < 21].sort_values(by=\"len_sent\",ascending=False)"
   ]
  },
  {
   "cell_type": "code",
   "execution_count": null,
   "metadata": {},
   "outputs": [],
   "source": [
    "fake_news_df = fake_news_df[fake_news_df['len_sent'] > 20].reset_index(drop=True)\n",
    "display(fake_news_df.shape, fake_news_df.sample(2))"
   ]
  },
  {
   "cell_type": "code",
   "execution_count": null,
   "metadata": {},
   "outputs": [],
   "source": []
  },
  {
   "cell_type": "code",
   "execution_count": null,
   "metadata": {},
   "outputs": [],
   "source": []
  },
  {
   "cell_type": "code",
   "execution_count": null,
   "metadata": {},
   "outputs": [],
   "source": []
  },
  {
   "cell_type": "code",
   "execution_count": null,
   "metadata": {},
   "outputs": [],
   "source": []
  },
  {
   "cell_type": "code",
   "execution_count": null,
   "metadata": {},
   "outputs": [],
   "source": []
  },
  {
   "cell_type": "code",
   "execution_count": null,
   "metadata": {},
   "outputs": [],
   "source": []
  },
  {
   "cell_type": "code",
   "execution_count": null,
   "metadata": {},
   "outputs": [],
   "source": []
  },
  {
   "cell_type": "code",
   "execution_count": null,
   "metadata": {},
   "outputs": [],
   "source": []
  },
  {
   "cell_type": "code",
   "execution_count": null,
   "metadata": {},
   "outputs": [],
   "source": []
  },
  {
   "cell_type": "code",
   "execution_count": null,
   "metadata": {},
   "outputs": [],
   "source": [
    "print(\"--- %s seconds ---\" % (time.time() - start_time))"
   ]
  }
 ],
 "metadata": {
  "kernelspec": {
   "display_name": "Python 3.10.4 ('tf-od')",
   "language": "python",
   "name": "python3"
  },
  "language_info": {
   "codemirror_mode": {
    "name": "ipython",
    "version": 3
   },
   "file_extension": ".py",
   "mimetype": "text/x-python",
   "name": "python",
   "nbconvert_exporter": "python",
   "pygments_lexer": "ipython3",
   "version": "3.10.4"
  },
  "orig_nbformat": 4,
  "vscode": {
   "interpreter": {
    "hash": "aaf0c9af9c15e2b81ba96803a9326656c5add24c3ac6d6b00ab7ba7f31f2c52d"
   }
  }
 },
 "nbformat": 4,
 "nbformat_minor": 2
}
