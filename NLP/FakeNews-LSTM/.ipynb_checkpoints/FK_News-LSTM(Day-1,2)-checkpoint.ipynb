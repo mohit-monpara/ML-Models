{
 "cells": [
  {
   "cell_type": "code",
   "execution_count": 1,
   "metadata": {},
   "outputs": [],
   "source": [
    "# !pip install sklearn\n",
    "# !pip install pydot\n",
    "# !pip install graphviz\n",
    "# !pip install matplotlib\n",
    "# !pip install plotly\n",
    "# !pip install cufflinks==0.8.2"
   ]
  },
  {
   "cell_type": "code",
   "execution_count": 2,
   "metadata": {},
   "outputs": [],
   "source": [
    "import time\n",
    "start_time = time.time()"
   ]
  },
  {
   "cell_type": "code",
   "execution_count": 3,
   "metadata": {},
   "outputs": [],
   "source": [
    "# Importing the Libraries\n",
    "import pandas as pd\n",
    "import numpy as np\n",
    "import tensorflow as tf\n",
    "import keras\n",
    "import re\n",
    "import unicodedata\n",
    "from sklearn.preprocessing import OneHotEncoder, LabelEncoder\n",
    "from sklearn.model_selection import train_test_split\n",
    "from keras import Model\n",
    "from keras.preprocessing.text import Tokenizer\n",
    "from keras.utils.data_utils import pad_sequences\n",
    "from keras.models import Sequential\n",
    "from keras.layers import Dense, Embedding, LSTM, SpatialDropout1D, Dropout, Flatten, Dropout\n",
    "from keras.callbacks import ModelCheckpoint, EarlyStopping\n",
    "from IPython.core.interactiveshell import InteractiveShell\n",
    "import matplotlib.pyplot as plt\n",
    "import plotly.figure_factory as ff\n",
    "InteractiveShell.ast_node_interactivity = 'all'\n",
    "from plotly.offline import iplot"
   ]
  },
  {
   "cell_type": "code",
   "execution_count": 4,
   "metadata": {},
   "outputs": [],
   "source": [
    "# Reading the files from the folder\n",
    "\n",
    "fake_news_df = pd.read_csv('Fake.csv')\n",
    "true_news_df = pd.read_csv('True.csv')"
   ]
  },
  {
   "cell_type": "code",
   "execution_count": 5,
   "metadata": {},
   "outputs": [
    {
     "data": {
      "text/html": [
       "<div>\n",
       "<style scoped>\n",
       "    .dataframe tbody tr th:only-of-type {\n",
       "        vertical-align: middle;\n",
       "    }\n",
       "\n",
       "    .dataframe tbody tr th {\n",
       "        vertical-align: top;\n",
       "    }\n",
       "\n",
       "    .dataframe thead th {\n",
       "        text-align: right;\n",
       "    }\n",
       "</style>\n",
       "<table border=\"1\" class=\"dataframe\">\n",
       "  <thead>\n",
       "    <tr style=\"text-align: right;\">\n",
       "      <th></th>\n",
       "      <th>title</th>\n",
       "      <th>text</th>\n",
       "      <th>subject</th>\n",
       "      <th>date</th>\n",
       "    </tr>\n",
       "  </thead>\n",
       "  <tbody>\n",
       "    <tr>\n",
       "      <th>3080</th>\n",
       "      <td>Republicans BETRAY Paul Ryan And Mitch McConn...</td>\n",
       "      <td>Many Republicans in Congressional leadership a...</td>\n",
       "      <td>News</td>\n",
       "      <td>January 10, 2017</td>\n",
       "    </tr>\n",
       "    <tr>\n",
       "      <th>8320</th>\n",
       "      <td>You Won’t Believe What Hit This Pro-TPP Polit...</td>\n",
       "      <td>George W. Bush was famously attacked with flyi...</td>\n",
       "      <td>News</td>\n",
       "      <td>February 5, 2016</td>\n",
       "    </tr>\n",
       "  </tbody>\n",
       "</table>\n",
       "</div>"
      ],
      "text/plain": [
       "                                                  title  \\\n",
       "3080   Republicans BETRAY Paul Ryan And Mitch McConn...   \n",
       "8320   You Won’t Believe What Hit This Pro-TPP Polit...   \n",
       "\n",
       "                                                   text subject  \\\n",
       "3080  Many Republicans in Congressional leadership a...    News   \n",
       "8320  George W. Bush was famously attacked with flyi...    News   \n",
       "\n",
       "                  date  \n",
       "3080  January 10, 2017  \n",
       "8320  February 5, 2016  "
      ]
     },
     "metadata": {},
     "output_type": "display_data"
    },
    {
     "data": {
      "text/html": [
       "<div>\n",
       "<style scoped>\n",
       "    .dataframe tbody tr th:only-of-type {\n",
       "        vertical-align: middle;\n",
       "    }\n",
       "\n",
       "    .dataframe tbody tr th {\n",
       "        vertical-align: top;\n",
       "    }\n",
       "\n",
       "    .dataframe thead th {\n",
       "        text-align: right;\n",
       "    }\n",
       "</style>\n",
       "<table border=\"1\" class=\"dataframe\">\n",
       "  <thead>\n",
       "    <tr style=\"text-align: right;\">\n",
       "      <th></th>\n",
       "      <th>title</th>\n",
       "      <th>text</th>\n",
       "      <th>subject</th>\n",
       "      <th>date</th>\n",
       "    </tr>\n",
       "  </thead>\n",
       "  <tbody>\n",
       "    <tr>\n",
       "      <th>17864</th>\n",
       "      <td>Pentagon says diplomatic tension with Turkey n...</td>\n",
       "      <td>WASHINGTON (Reuters) - A diplomatic dispute be...</td>\n",
       "      <td>worldnews</td>\n",
       "      <td>October 10, 2017</td>\n",
       "    </tr>\n",
       "    <tr>\n",
       "      <th>16604</th>\n",
       "      <td>Missing persons agency opens high-tech global ...</td>\n",
       "      <td>THE HAGUE (Reuters) - The organization that id...</td>\n",
       "      <td>worldnews</td>\n",
       "      <td>October 24, 2017</td>\n",
       "    </tr>\n",
       "  </tbody>\n",
       "</table>\n",
       "</div>"
      ],
      "text/plain": [
       "                                                   title  \\\n",
       "17864  Pentagon says diplomatic tension with Turkey n...   \n",
       "16604  Missing persons agency opens high-tech global ...   \n",
       "\n",
       "                                                    text    subject  \\\n",
       "17864  WASHINGTON (Reuters) - A diplomatic dispute be...  worldnews   \n",
       "16604  THE HAGUE (Reuters) - The organization that id...  worldnews   \n",
       "\n",
       "                    date  \n",
       "17864  October 10, 2017   \n",
       "16604  October 24, 2017   "
      ]
     },
     "metadata": {},
     "output_type": "display_data"
    }
   ],
   "source": [
    "# Check the random instances of the data\n",
    "\n",
    "display(fake_news_df.sample(2), true_news_df.sample(2))"
   ]
  },
  {
   "cell_type": "code",
   "execution_count": null,
   "metadata": {},
   "outputs": [],
   "source": []
  },
  {
   "cell_type": "markdown",
   "metadata": {},
   "source": [
    "## Data Cleaning Functions"
   ]
  },
  {
   "cell_type": "code",
   "execution_count": 6,
   "metadata": {},
   "outputs": [],
   "source": [
    "## Data Cleaning  ###\n",
    "\n",
    "# Remove the HTML text/phases from the data\n",
    "def remove_html(text):\n",
    "    new_text = re.sub(r'''(?i)\\b((?:https?://|www\\d{0,3}[.]|[a-z0-9.\\-]+[.][a-z]{2,4}/)(?:[^\\s()<>]+|\\(([^\\s()<>]+|(\\([^\\s()<>]+\\)))*\\))+(?:\\(([^\\s()<>]+|(\\([^\\s()<>]+\\)))*\\)|[^\\s`!()\\[\\]{};:'\".,<>?«»“”‘’]))''', \"\", text)\n",
    "    return(new_text)\n",
    "\n",
    "# Count the lenght of the string\n",
    "def len_text(text):\n",
    "    text_len = len(text.split())\n",
    "    return(text_len)\n",
    "    \n",
    "# Remove White Spaces\n",
    "def remove_white_space(text):\n",
    "    text = re.sub(\"^\\s+|\\s+$\", \"\", text, flags=re.UNICODE) # Remove spaces both in beginining and in the end of a string\n",
    "    text = \" \".join(re.split(\"\\s+\", text, flags=re.UNICODE)) # Remove spaces from duplicate spaces\n",
    "    return(text)\n",
    "\n",
    "# Removing the Accented Chars\n",
    "def remove_accented_chars(text):\n",
    "    text = unicodedata.normalize('NFKD', text).encode('ascii', 'ignore').decode('utf-8', 'ignore')\n",
    "    return text\n",
    "\n",
    "\n",
    "# Removing Special characters\n",
    "def remove_special_characters(text):\n",
    "    pattern = r'[^a-zA-z0-9\\s.]' \n",
    "    text = re.sub(pattern, '', text)\n",
    "    return text"
   ]
  },
  {
   "cell_type": "markdown",
   "metadata": {},
   "source": [
    "## Data Analysis (Before Data Cleaning)"
   ]
  },
  {
   "cell_type": "code",
   "execution_count": 7,
   "metadata": {},
   "outputs": [
    {
     "data": {
      "text/html": [
       "<div>\n",
       "<style scoped>\n",
       "    .dataframe tbody tr th:only-of-type {\n",
       "        vertical-align: middle;\n",
       "    }\n",
       "\n",
       "    .dataframe tbody tr th {\n",
       "        vertical-align: top;\n",
       "    }\n",
       "\n",
       "    .dataframe thead th {\n",
       "        text-align: right;\n",
       "    }\n",
       "</style>\n",
       "<table border=\"1\" class=\"dataframe\">\n",
       "  <thead>\n",
       "    <tr style=\"text-align: right;\">\n",
       "      <th></th>\n",
       "      <th>title</th>\n",
       "      <th>text</th>\n",
       "      <th>subject</th>\n",
       "      <th>date</th>\n",
       "    </tr>\n",
       "  </thead>\n",
       "  <tbody>\n",
       "    <tr>\n",
       "      <th>18906</th>\n",
       "      <td>THE HORRIBLE END GAME: BERNIE SANDERS Calls fo...</td>\n",
       "      <td></td>\n",
       "      <td>left-news</td>\n",
       "      <td>Mar 26, 2017</td>\n",
       "    </tr>\n",
       "    <tr>\n",
       "      <th>3380</th>\n",
       "      <td>WATCH: Kellyanne Conway Accuses Obama Of Bein...</td>\n",
       "      <td>If someone had called Ronald Reagan un-America...</td>\n",
       "      <td>News</td>\n",
       "      <td>December 16, 2016</td>\n",
       "    </tr>\n",
       "  </tbody>\n",
       "</table>\n",
       "</div>"
      ],
      "text/plain": [
       "                                                   title  \\\n",
       "18906  THE HORRIBLE END GAME: BERNIE SANDERS Calls fo...   \n",
       "3380    WATCH: Kellyanne Conway Accuses Obama Of Bein...   \n",
       "\n",
       "                                                    text    subject  \\\n",
       "18906                                                     left-news   \n",
       "3380   If someone had called Ronald Reagan un-America...       News   \n",
       "\n",
       "                    date  \n",
       "18906       Mar 26, 2017  \n",
       "3380   December 16, 2016  "
      ]
     },
     "metadata": {},
     "output_type": "display_data"
    },
    {
     "data": {
      "text/html": [
       "<div>\n",
       "<style scoped>\n",
       "    .dataframe tbody tr th:only-of-type {\n",
       "        vertical-align: middle;\n",
       "    }\n",
       "\n",
       "    .dataframe tbody tr th {\n",
       "        vertical-align: top;\n",
       "    }\n",
       "\n",
       "    .dataframe thead th {\n",
       "        text-align: right;\n",
       "    }\n",
       "</style>\n",
       "<table border=\"1\" class=\"dataframe\">\n",
       "  <thead>\n",
       "    <tr style=\"text-align: right;\">\n",
       "      <th></th>\n",
       "      <th>title</th>\n",
       "      <th>text</th>\n",
       "      <th>subject</th>\n",
       "      <th>date</th>\n",
       "    </tr>\n",
       "  </thead>\n",
       "  <tbody>\n",
       "    <tr>\n",
       "      <th>16529</th>\n",
       "      <td>Bosnian pensioners stage street protests for p...</td>\n",
       "      <td>SARAJEVO (Reuters) - Thousands of pensioners f...</td>\n",
       "      <td>worldnews</td>\n",
       "      <td>October 25, 2017</td>\n",
       "    </tr>\n",
       "    <tr>\n",
       "      <th>21186</th>\n",
       "      <td>France says North Korea close to long-range mi...</td>\n",
       "      <td>PARIS (Reuters) - France s foreign minister sa...</td>\n",
       "      <td>worldnews</td>\n",
       "      <td>September 1, 2017</td>\n",
       "    </tr>\n",
       "  </tbody>\n",
       "</table>\n",
       "</div>"
      ],
      "text/plain": [
       "                                                   title  \\\n",
       "16529  Bosnian pensioners stage street protests for p...   \n",
       "21186  France says North Korea close to long-range mi...   \n",
       "\n",
       "                                                    text    subject  \\\n",
       "16529  SARAJEVO (Reuters) - Thousands of pensioners f...  worldnews   \n",
       "21186  PARIS (Reuters) - France s foreign minister sa...  worldnews   \n",
       "\n",
       "                     date  \n",
       "16529   October 25, 2017   \n",
       "21186  September 1, 2017   "
      ]
     },
     "metadata": {},
     "output_type": "display_data"
    }
   ],
   "source": [
    "display(fake_news_df.sample(2), true_news_df.sample(2))"
   ]
  },
  {
   "cell_type": "code",
   "execution_count": 8,
   "metadata": {},
   "outputs": [
    {
     "data": {
      "text/plain": [
       "(23481, 4)"
      ]
     },
     "metadata": {},
     "output_type": "display_data"
    },
    {
     "data": {
      "text/plain": [
       "(21417, 4)"
      ]
     },
     "metadata": {},
     "output_type": "display_data"
    }
   ],
   "source": [
    "display(fake_news_df.shape, true_news_df.shape)"
   ]
  },
  {
   "cell_type": "markdown",
   "metadata": {},
   "source": [
    "#### FAKE News"
   ]
  },
  {
   "cell_type": "code",
   "execution_count": 9,
   "metadata": {},
   "outputs": [
    {
     "data": {
      "text/plain": [
       "{'Government News', 'Middle-east', 'News', 'US_News', 'left-news', 'politics'}"
      ]
     },
     "metadata": {},
     "output_type": "display_data"
    },
    {
     "data": {
      "text/plain": [
       "{'politicsNews', 'worldnews'}"
      ]
     },
     "metadata": {},
     "output_type": "display_data"
    }
   ],
   "source": [
    "display(set(fake_news_df['subject']), set(true_news_df['subject']))"
   ]
  },
  {
   "cell_type": "code",
   "execution_count": 10,
   "metadata": {},
   "outputs": [],
   "source": [
    "# Get the length of each instance\n",
    "fake_news_df['len_sent'] = fake_news_df['text'].apply(lambda x: len_text(x)) "
   ]
  },
  {
   "cell_type": "code",
   "execution_count": 11,
   "metadata": {},
   "outputs": [
    {
     "data": {
      "text/plain": [
       "News               9050\n",
       "politics           6841\n",
       "left-news          4459\n",
       "Government News    1570\n",
       "US_News             783\n",
       "Middle-east         778\n",
       "Name: subject, dtype: int64"
      ]
     },
     "execution_count": 11,
     "metadata": {},
     "output_type": "execute_result"
    }
   ],
   "source": [
    "fake_news_df['subject'].value_counts()"
   ]
  },
  {
   "cell_type": "code",
   "execution_count": 12,
   "metadata": {},
   "outputs": [
    {
     "data": {
      "text/html": [
       "<div>\n",
       "<style scoped>\n",
       "    .dataframe tbody tr th:only-of-type {\n",
       "        vertical-align: middle;\n",
       "    }\n",
       "\n",
       "    .dataframe tbody tr th {\n",
       "        vertical-align: top;\n",
       "    }\n",
       "\n",
       "    .dataframe thead tr th {\n",
       "        text-align: left;\n",
       "    }\n",
       "\n",
       "    .dataframe thead tr:last-of-type th {\n",
       "        text-align: right;\n",
       "    }\n",
       "</style>\n",
       "<table border=\"1\" class=\"dataframe\">\n",
       "  <thead>\n",
       "    <tr>\n",
       "      <th></th>\n",
       "      <th colspan=\"8\" halign=\"left\">len_sent</th>\n",
       "    </tr>\n",
       "    <tr>\n",
       "      <th></th>\n",
       "      <th>count</th>\n",
       "      <th>mean</th>\n",
       "      <th>std</th>\n",
       "      <th>min</th>\n",
       "      <th>25%</th>\n",
       "      <th>50%</th>\n",
       "      <th>75%</th>\n",
       "      <th>max</th>\n",
       "    </tr>\n",
       "    <tr>\n",
       "      <th>subject</th>\n",
       "      <th></th>\n",
       "      <th></th>\n",
       "      <th></th>\n",
       "      <th></th>\n",
       "      <th></th>\n",
       "      <th></th>\n",
       "      <th></th>\n",
       "      <th></th>\n",
       "    </tr>\n",
       "  </thead>\n",
       "  <tbody>\n",
       "    <tr>\n",
       "      <th>Government News</th>\n",
       "      <td>1570.0</td>\n",
       "      <td>387.404459</td>\n",
       "      <td>389.428324</td>\n",
       "      <td>0.0</td>\n",
       "      <td>155.00</td>\n",
       "      <td>304.5</td>\n",
       "      <td>506.0</td>\n",
       "      <td>4547.0</td>\n",
       "    </tr>\n",
       "    <tr>\n",
       "      <th>Middle-east</th>\n",
       "      <td>778.0</td>\n",
       "      <td>772.548843</td>\n",
       "      <td>1040.851331</td>\n",
       "      <td>24.0</td>\n",
       "      <td>182.25</td>\n",
       "      <td>351.5</td>\n",
       "      <td>919.5</td>\n",
       "      <td>8135.0</td>\n",
       "    </tr>\n",
       "    <tr>\n",
       "      <th>News</th>\n",
       "      <td>9050.0</td>\n",
       "      <td>441.253812</td>\n",
       "      <td>152.060179</td>\n",
       "      <td>36.0</td>\n",
       "      <td>344.00</td>\n",
       "      <td>410.0</td>\n",
       "      <td>506.0</td>\n",
       "      <td>3909.0</td>\n",
       "    </tr>\n",
       "    <tr>\n",
       "      <th>US_News</th>\n",
       "      <td>783.0</td>\n",
       "      <td>780.527458</td>\n",
       "      <td>1049.778528</td>\n",
       "      <td>24.0</td>\n",
       "      <td>183.00</td>\n",
       "      <td>355.0</td>\n",
       "      <td>927.5</td>\n",
       "      <td>8135.0</td>\n",
       "    </tr>\n",
       "    <tr>\n",
       "      <th>left-news</th>\n",
       "      <td>4459.0</td>\n",
       "      <td>392.736264</td>\n",
       "      <td>363.389015</td>\n",
       "      <td>0.0</td>\n",
       "      <td>186.50</td>\n",
       "      <td>318.0</td>\n",
       "      <td>509.5</td>\n",
       "      <td>7033.0</td>\n",
       "    </tr>\n",
       "    <tr>\n",
       "      <th>politics</th>\n",
       "      <td>6841.0</td>\n",
       "      <td>346.752083</td>\n",
       "      <td>369.246542</td>\n",
       "      <td>0.0</td>\n",
       "      <td>120.00</td>\n",
       "      <td>276.0</td>\n",
       "      <td>462.0</td>\n",
       "      <td>7033.0</td>\n",
       "    </tr>\n",
       "  </tbody>\n",
       "</table>\n",
       "</div>"
      ],
      "text/plain": [
       "                len_sent                                                       \\\n",
       "                   count        mean          std   min     25%    50%    75%   \n",
       "subject                                                                         \n",
       "Government News   1570.0  387.404459   389.428324   0.0  155.00  304.5  506.0   \n",
       "Middle-east        778.0  772.548843  1040.851331  24.0  182.25  351.5  919.5   \n",
       "News              9050.0  441.253812   152.060179  36.0  344.00  410.0  506.0   \n",
       "US_News            783.0  780.527458  1049.778528  24.0  183.00  355.0  927.5   \n",
       "left-news         4459.0  392.736264   363.389015   0.0  186.50  318.0  509.5   \n",
       "politics          6841.0  346.752083   369.246542   0.0  120.00  276.0  462.0   \n",
       "\n",
       "                         \n",
       "                    max  \n",
       "subject                  \n",
       "Government News  4547.0  \n",
       "Middle-east      8135.0  \n",
       "News             3909.0  \n",
       "US_News          8135.0  \n",
       "left-news        7033.0  \n",
       "politics         7033.0  "
      ]
     },
     "execution_count": 12,
     "metadata": {},
     "output_type": "execute_result"
    }
   ],
   "source": [
    "# Analyse the description of each group in the subject feature\n",
    "fake_news_df.groupby(['subject']).describe()"
   ]
  },
  {
   "cell_type": "code",
   "execution_count": 13,
   "metadata": {},
   "outputs": [],
   "source": [
    "# random.seed(123)\n",
    "# fake_news_df[fake_news_df['subject']=='politics']['text'].sample(2, random_state=123).to_list()"
   ]
  },
  {
   "cell_type": "markdown",
   "metadata": {},
   "source": [
    "##### Conclusion for Statistical analysis on Fake News Dataframe\n",
    "\n",
    "- Maximum instances of possess by \"News\" with 9050 instances, followed by \"politics\" [6841], \"left-news\" [4459], \"Govt News\" [1570], \"US_news\" [783], and \"Middle-east\" [778]\n",
    "- The news corpus is largely aligned towards the \"left-news\" and \"politics\" \n",
    "- The minimum number of text in Middle-east, News and US_News starts from 24, 36 and 24, respectively.\n",
    "- There are various instances in Govt News, left-news and politics where the news is empty\n",
    "- Many dirty records can be found in the data i.e. \n",
    "    - HTML characters/Code\n",
    "    - White Spaces in the text\n",
    "    - Removing Ascented Characters\n",
    "    - Removing Special Characters\n",
    "\n",
    "##### Cleaning Aspects\n",
    "\n",
    "- Remove the instances with length less than 10\n",
    "- Split the total instances by each group in same proportion"
   ]
  },
  {
   "cell_type": "code",
   "execution_count": null,
   "metadata": {},
   "outputs": [],
   "source": []
  },
  {
   "cell_type": "code",
   "execution_count": null,
   "metadata": {},
   "outputs": [],
   "source": []
  },
  {
   "cell_type": "markdown",
   "metadata": {},
   "source": [
    "#### TRUE News"
   ]
  },
  {
   "cell_type": "code",
   "execution_count": 14,
   "metadata": {},
   "outputs": [
    {
     "data": {
      "text/plain": [
       "{'Government News', 'Middle-east', 'News', 'US_News', 'left-news', 'politics'}"
      ]
     },
     "metadata": {},
     "output_type": "display_data"
    },
    {
     "data": {
      "text/plain": [
       "{'politicsNews', 'worldnews'}"
      ]
     },
     "metadata": {},
     "output_type": "display_data"
    }
   ],
   "source": [
    "display(set(fake_news_df['subject']), set(true_news_df['subject']))"
   ]
  },
  {
   "cell_type": "code",
   "execution_count": 15,
   "metadata": {},
   "outputs": [],
   "source": [
    "# Get the length of each instance\n",
    "true_news_df['len_sent'] = true_news_df['text'].apply(lambda x: len_text(x)) "
   ]
  },
  {
   "cell_type": "code",
   "execution_count": 16,
   "metadata": {},
   "outputs": [
    {
     "data": {
      "text/plain": [
       "politicsNews    11272\n",
       "worldnews       10145\n",
       "Name: subject, dtype: int64"
      ]
     },
     "execution_count": 16,
     "metadata": {},
     "output_type": "execute_result"
    }
   ],
   "source": [
    "true_news_df['subject'].value_counts()"
   ]
  },
  {
   "cell_type": "code",
   "execution_count": 17,
   "metadata": {},
   "outputs": [
    {
     "data": {
      "text/html": [
       "<div>\n",
       "<style scoped>\n",
       "    .dataframe tbody tr th:only-of-type {\n",
       "        vertical-align: middle;\n",
       "    }\n",
       "\n",
       "    .dataframe tbody tr th {\n",
       "        vertical-align: top;\n",
       "    }\n",
       "\n",
       "    .dataframe thead tr th {\n",
       "        text-align: left;\n",
       "    }\n",
       "\n",
       "    .dataframe thead tr:last-of-type th {\n",
       "        text-align: right;\n",
       "    }\n",
       "</style>\n",
       "<table border=\"1\" class=\"dataframe\">\n",
       "  <thead>\n",
       "    <tr>\n",
       "      <th></th>\n",
       "      <th colspan=\"8\" halign=\"left\">len_sent</th>\n",
       "    </tr>\n",
       "    <tr>\n",
       "      <th></th>\n",
       "      <th>count</th>\n",
       "      <th>mean</th>\n",
       "      <th>std</th>\n",
       "      <th>min</th>\n",
       "      <th>25%</th>\n",
       "      <th>50%</th>\n",
       "      <th>75%</th>\n",
       "      <th>max</th>\n",
       "    </tr>\n",
       "    <tr>\n",
       "      <th>subject</th>\n",
       "      <th></th>\n",
       "      <th></th>\n",
       "      <th></th>\n",
       "      <th></th>\n",
       "      <th></th>\n",
       "      <th></th>\n",
       "      <th></th>\n",
       "      <th></th>\n",
       "    </tr>\n",
       "  </thead>\n",
       "  <tbody>\n",
       "    <tr>\n",
       "      <th>politicsNews</th>\n",
       "      <td>11272.0</td>\n",
       "      <td>408.095990</td>\n",
       "      <td>287.852067</td>\n",
       "      <td>0.0</td>\n",
       "      <td>153.75</td>\n",
       "      <td>385.0</td>\n",
       "      <td>571.0</td>\n",
       "      <td>5172.0</td>\n",
       "    </tr>\n",
       "    <tr>\n",
       "      <th>worldnews</th>\n",
       "      <td>10145.0</td>\n",
       "      <td>360.689601</td>\n",
       "      <td>255.460690</td>\n",
       "      <td>23.0</td>\n",
       "      <td>146.00</td>\n",
       "      <td>324.0</td>\n",
       "      <td>486.0</td>\n",
       "      <td>2927.0</td>\n",
       "    </tr>\n",
       "  </tbody>\n",
       "</table>\n",
       "</div>"
      ],
      "text/plain": [
       "             len_sent                                                      \\\n",
       "                count        mean         std   min     25%    50%    75%   \n",
       "subject                                                                     \n",
       "politicsNews  11272.0  408.095990  287.852067   0.0  153.75  385.0  571.0   \n",
       "worldnews     10145.0  360.689601  255.460690  23.0  146.00  324.0  486.0   \n",
       "\n",
       "                      \n",
       "                 max  \n",
       "subject               \n",
       "politicsNews  5172.0  \n",
       "worldnews     2927.0  "
      ]
     },
     "execution_count": 17,
     "metadata": {},
     "output_type": "execute_result"
    }
   ],
   "source": [
    "# Analyse the description of each group in the subject feature\n",
    "true_news_df.groupby(['subject']).describe()"
   ]
  },
  {
   "cell_type": "markdown",
   "metadata": {},
   "source": [
    "##### Conclusion for Statistical analysis on True News Dataframe\n",
    "\n",
    "- Maximum instances of possess by \"politicsNews\" with 11272 instances, followed by \"worldnews\" [10145]\n",
    "- There are various instances in \"politicsNews\" where the news is empty\n",
    "\n",
    "##### Cleaning Aspects\n",
    "\n",
    "- Remove the instances with length less than 10"
   ]
  },
  {
   "cell_type": "code",
   "execution_count": null,
   "metadata": {},
   "outputs": [],
   "source": []
  },
  {
   "cell_type": "markdown",
   "metadata": {},
   "source": [
    "### Overall Conclusion\n",
    "- Set minimum length of the instances to 20\n",
    "- Make sure to remove bais in the data i.e. all group should possess same amount of instances (data)\n",
    "- Combine the fields (if required) i.e. combining the \"subjects\" of the data "
   ]
  },
  {
   "cell_type": "code",
   "execution_count": null,
   "metadata": {},
   "outputs": [],
   "source": []
  },
  {
   "cell_type": "markdown",
   "metadata": {},
   "source": [
    "## Data Analysis (After Data Cleaning)"
   ]
  },
  {
   "cell_type": "markdown",
   "metadata": {},
   "source": [
    "#### FAKE News"
   ]
  },
  {
   "cell_type": "code",
   "execution_count": 18,
   "metadata": {},
   "outputs": [
    {
     "data": {
      "text/html": [
       "<div>\n",
       "<style scoped>\n",
       "    .dataframe tbody tr th:only-of-type {\n",
       "        vertical-align: middle;\n",
       "    }\n",
       "\n",
       "    .dataframe tbody tr th {\n",
       "        vertical-align: top;\n",
       "    }\n",
       "\n",
       "    .dataframe thead th {\n",
       "        text-align: right;\n",
       "    }\n",
       "</style>\n",
       "<table border=\"1\" class=\"dataframe\">\n",
       "  <thead>\n",
       "    <tr style=\"text-align: right;\">\n",
       "      <th></th>\n",
       "      <th>title</th>\n",
       "      <th>text</th>\n",
       "      <th>subject</th>\n",
       "      <th>date</th>\n",
       "      <th>len_sent</th>\n",
       "    </tr>\n",
       "  </thead>\n",
       "  <tbody>\n",
       "    <tr>\n",
       "      <th>0</th>\n",
       "      <td>Donald Trump Sends Out Embarrassing New Year’...</td>\n",
       "      <td>Donald Trump just couldn t wish all Americans ...</td>\n",
       "      <td>News</td>\n",
       "      <td>December 31, 2017</td>\n",
       "      <td>495</td>\n",
       "    </tr>\n",
       "  </tbody>\n",
       "</table>\n",
       "</div>"
      ],
      "text/plain": [
       "                                               title  \\\n",
       "0   Donald Trump Sends Out Embarrassing New Year’...   \n",
       "\n",
       "                                                text subject  \\\n",
       "0  Donald Trump just couldn t wish all Americans ...    News   \n",
       "\n",
       "                date  len_sent  \n",
       "0  December 31, 2017       495  "
      ]
     },
     "execution_count": 18,
     "metadata": {},
     "output_type": "execute_result"
    }
   ],
   "source": [
    "fake_news_df.head(1)"
   ]
  },
  {
   "cell_type": "code",
   "execution_count": 19,
   "metadata": {},
   "outputs": [],
   "source": [
    "fake_news_df['text'] = fake_news_df['text'].apply(lambda x: remove_html(x))\n",
    "fake_news_df['text'] = fake_news_df['text'].apply(lambda x: remove_accented_chars(x))\n",
    "fake_news_df['text'] = fake_news_df['text'].apply(lambda x: remove_special_characters(x))\n",
    "fake_news_df['text'] = fake_news_df['text'].apply(lambda x: remove_white_space(x))\n",
    "fake_news_df['len_sent'] = fake_news_df['text'].apply(lambda x: len_text(x)) "
   ]
  },
  {
   "cell_type": "code",
   "execution_count": 20,
   "metadata": {},
   "outputs": [
    {
     "data": {
      "text/html": [
       "<div>\n",
       "<style scoped>\n",
       "    .dataframe tbody tr th:only-of-type {\n",
       "        vertical-align: middle;\n",
       "    }\n",
       "\n",
       "    .dataframe tbody tr th {\n",
       "        vertical-align: top;\n",
       "    }\n",
       "\n",
       "    .dataframe thead th {\n",
       "        text-align: right;\n",
       "    }\n",
       "</style>\n",
       "<table border=\"1\" class=\"dataframe\">\n",
       "  <thead>\n",
       "    <tr style=\"text-align: right;\">\n",
       "      <th></th>\n",
       "      <th>title</th>\n",
       "      <th>text</th>\n",
       "      <th>subject</th>\n",
       "      <th>date</th>\n",
       "      <th>len_sent</th>\n",
       "    </tr>\n",
       "  </thead>\n",
       "  <tbody>\n",
       "    <tr>\n",
       "      <th>22526</th>\n",
       "      <td>Boiler Room #63 – Us and THEM!</td>\n",
       "      <td>Tune in to the Alternate Current Radio Network...</td>\n",
       "      <td>US_News</td>\n",
       "      <td>July 6, 2016</td>\n",
       "      <td>127</td>\n",
       "    </tr>\n",
       "  </tbody>\n",
       "</table>\n",
       "</div>"
      ],
      "text/plain": [
       "                                title  \\\n",
       "22526  Boiler Room #63 – Us and THEM!   \n",
       "\n",
       "                                                    text  subject  \\\n",
       "22526  Tune in to the Alternate Current Radio Network...  US_News   \n",
       "\n",
       "               date  len_sent  \n",
       "22526  July 6, 2016       127  "
      ]
     },
     "execution_count": 20,
     "metadata": {},
     "output_type": "execute_result"
    }
   ],
   "source": [
    "fake_news_df.sample(1)"
   ]
  },
  {
   "cell_type": "code",
   "execution_count": 21,
   "metadata": {},
   "outputs": [
    {
     "data": {
      "text/html": [
       "<div>\n",
       "<style scoped>\n",
       "    .dataframe tbody tr th:only-of-type {\n",
       "        vertical-align: middle;\n",
       "    }\n",
       "\n",
       "    .dataframe tbody tr th {\n",
       "        vertical-align: top;\n",
       "    }\n",
       "\n",
       "    .dataframe thead th {\n",
       "        text-align: right;\n",
       "    }\n",
       "</style>\n",
       "<table border=\"1\" class=\"dataframe\">\n",
       "  <thead>\n",
       "    <tr style=\"text-align: right;\">\n",
       "      <th></th>\n",
       "      <th>title</th>\n",
       "      <th>text</th>\n",
       "      <th>subject</th>\n",
       "      <th>date</th>\n",
       "      <th>len_sent</th>\n",
       "    </tr>\n",
       "  </thead>\n",
       "  <tbody>\n",
       "    <tr>\n",
       "      <th>12616</th>\n",
       "      <td>CROOKED SOROS: Trump Will Win Popular Vote In ...</td>\n",
       "      <td>Very interesting remarks from a guy who is in ...</td>\n",
       "      <td>politics</td>\n",
       "      <td>Oct 26, 2016</td>\n",
       "      <td>20</td>\n",
       "    </tr>\n",
       "    <tr>\n",
       "      <th>19279</th>\n",
       "      <td>THE BEST WAY To Clear Soros’ Anti-Trump Rioter...</td>\n",
       "      <td>disruptj20 protesters on the move many leaving...</td>\n",
       "      <td>left-news</td>\n",
       "      <td>Jan 20, 2017</td>\n",
       "      <td>20</td>\n",
       "    </tr>\n",
       "    <tr>\n",
       "      <th>13697</th>\n",
       "      <td>WHOA! Did Donald Trump Just Imply Obama Is Wor...</td>\n",
       "      <td>And if Trump did indeed imply Obama was workin...</td>\n",
       "      <td>politics</td>\n",
       "      <td>Jun 13, 2016</td>\n",
       "      <td>20</td>\n",
       "    </tr>\n",
       "    <tr>\n",
       "      <th>20217</th>\n",
       "      <td>SHOCKING SUMMARY Of The DNC Convention So Far…...</td>\n",
       "      <td>What a crazy group of professional agitators a...</td>\n",
       "      <td>left-news</td>\n",
       "      <td>Jul 26, 2016</td>\n",
       "      <td>20</td>\n",
       "    </tr>\n",
       "    <tr>\n",
       "      <th>13731</th>\n",
       "      <td>WHAAAT? DNC PLATFORM MEMBER Makes EXTREME Stat...</td>\n",
       "      <td>Wow This lady who is a DNC Platform Committee ...</td>\n",
       "      <td>politics</td>\n",
       "      <td>Jun 8, 2016</td>\n",
       "      <td>20</td>\n",
       "    </tr>\n",
       "    <tr>\n",
       "      <th>...</th>\n",
       "      <td>...</td>\n",
       "      <td>...</td>\n",
       "      <td>...</td>\n",
       "      <td>...</td>\n",
       "      <td>...</td>\n",
       "    </tr>\n",
       "    <tr>\n",
       "      <th>11960</th>\n",
       "      <td>DEFIANT DEMOCRATS Announce Effort To Rehang Pa...</td>\n",
       "      <td></td>\n",
       "      <td>politics</td>\n",
       "      <td>Jan 10, 2017</td>\n",
       "      <td>0</td>\n",
       "    </tr>\n",
       "    <tr>\n",
       "      <th>11957</th>\n",
       "      <td>SICKENING! MTV HOST MOCKS Senator Jeff Session...</td>\n",
       "      <td></td>\n",
       "      <td>politics</td>\n",
       "      <td>Jan 10, 2017</td>\n",
       "      <td>0</td>\n",
       "    </tr>\n",
       "    <tr>\n",
       "      <th>11943</th>\n",
       "      <td>“YOU ARE FAKE NEWS!” TRUMP DESTROYS CNN Right ...</td>\n",
       "      <td></td>\n",
       "      <td>politics</td>\n",
       "      <td>Jan 11, 2017</td>\n",
       "      <td>0</td>\n",
       "    </tr>\n",
       "    <tr>\n",
       "      <th>11936</th>\n",
       "      <td>“LITTLE” MARCO RUBIO GRILLS Trump’s Secretary ...</td>\n",
       "      <td></td>\n",
       "      <td>politics</td>\n",
       "      <td>Jan 11, 2017</td>\n",
       "      <td>0</td>\n",
       "    </tr>\n",
       "    <tr>\n",
       "      <th>9358</th>\n",
       "      <td>https://100percentfedup.com/served-roy-moore-v...</td>\n",
       "      <td></td>\n",
       "      <td>politics</td>\n",
       "      <td>https://100percentfedup.com/served-roy-moore-v...</td>\n",
       "      <td>0</td>\n",
       "    </tr>\n",
       "  </tbody>\n",
       "</table>\n",
       "<p>1183 rows × 5 columns</p>\n",
       "</div>"
      ],
      "text/plain": [
       "                                                   title  \\\n",
       "12616  CROOKED SOROS: Trump Will Win Popular Vote In ...   \n",
       "19279  THE BEST WAY To Clear Soros’ Anti-Trump Rioter...   \n",
       "13697  WHOA! Did Donald Trump Just Imply Obama Is Wor...   \n",
       "20217  SHOCKING SUMMARY Of The DNC Convention So Far…...   \n",
       "13731  WHAAAT? DNC PLATFORM MEMBER Makes EXTREME Stat...   \n",
       "...                                                  ...   \n",
       "11960  DEFIANT DEMOCRATS Announce Effort To Rehang Pa...   \n",
       "11957  SICKENING! MTV HOST MOCKS Senator Jeff Session...   \n",
       "11943  “YOU ARE FAKE NEWS!” TRUMP DESTROYS CNN Right ...   \n",
       "11936  “LITTLE” MARCO RUBIO GRILLS Trump’s Secretary ...   \n",
       "9358   https://100percentfedup.com/served-roy-moore-v...   \n",
       "\n",
       "                                                    text    subject  \\\n",
       "12616  Very interesting remarks from a guy who is in ...   politics   \n",
       "19279  disruptj20 protesters on the move many leaving...  left-news   \n",
       "13697  And if Trump did indeed imply Obama was workin...   politics   \n",
       "20217  What a crazy group of professional agitators a...  left-news   \n",
       "13731  Wow This lady who is a DNC Platform Committee ...   politics   \n",
       "...                                                  ...        ...   \n",
       "11960                                                      politics   \n",
       "11957                                                      politics   \n",
       "11943                                                      politics   \n",
       "11936                                                      politics   \n",
       "9358                                                       politics   \n",
       "\n",
       "                                                    date  len_sent  \n",
       "12616                                       Oct 26, 2016        20  \n",
       "19279                                       Jan 20, 2017        20  \n",
       "13697                                       Jun 13, 2016        20  \n",
       "20217                                       Jul 26, 2016        20  \n",
       "13731                                        Jun 8, 2016        20  \n",
       "...                                                  ...       ...  \n",
       "11960                                       Jan 10, 2017         0  \n",
       "11957                                       Jan 10, 2017         0  \n",
       "11943                                       Jan 11, 2017         0  \n",
       "11936                                       Jan 11, 2017         0  \n",
       "9358   https://100percentfedup.com/served-roy-moore-v...         0  \n",
       "\n",
       "[1183 rows x 5 columns]"
      ]
     },
     "execution_count": 21,
     "metadata": {},
     "output_type": "execute_result"
    }
   ],
   "source": [
    "# Check the number of sentences below 10 word length\n",
    "fake_news_df[fake_news_df['len_sent'] < 21].sort_values(by=\"len_sent\",ascending=False)"
   ]
  },
  {
   "cell_type": "code",
   "execution_count": 22,
   "metadata": {},
   "outputs": [
    {
     "data": {
      "text/plain": [
       "(22298, 5)"
      ]
     },
     "metadata": {},
     "output_type": "display_data"
    },
    {
     "data": {
      "text/html": [
       "<div>\n",
       "<style scoped>\n",
       "    .dataframe tbody tr th:only-of-type {\n",
       "        vertical-align: middle;\n",
       "    }\n",
       "\n",
       "    .dataframe tbody tr th {\n",
       "        vertical-align: top;\n",
       "    }\n",
       "\n",
       "    .dataframe thead th {\n",
       "        text-align: right;\n",
       "    }\n",
       "</style>\n",
       "<table border=\"1\" class=\"dataframe\">\n",
       "  <thead>\n",
       "    <tr style=\"text-align: right;\">\n",
       "      <th></th>\n",
       "      <th>title</th>\n",
       "      <th>text</th>\n",
       "      <th>subject</th>\n",
       "      <th>date</th>\n",
       "      <th>len_sent</th>\n",
       "    </tr>\n",
       "  </thead>\n",
       "  <tbody>\n",
       "    <tr>\n",
       "      <th>6834</th>\n",
       "      <td>Conservatives Can’t Believe Canadian PM Would...</td>\n",
       "      <td>Canada s new liberal Prime Minister went viral...</td>\n",
       "      <td>News</td>\n",
       "      <td>April 18, 2016</td>\n",
       "      <td>599</td>\n",
       "    </tr>\n",
       "    <tr>\n",
       "      <th>6852</th>\n",
       "      <td>Republicans Punish Georgia Governor For Refus...</td>\n",
       "      <td>Georgia conservatives really wanted to enshrin...</td>\n",
       "      <td>News</td>\n",
       "      <td>April 17, 2016</td>\n",
       "      <td>394</td>\n",
       "    </tr>\n",
       "  </tbody>\n",
       "</table>\n",
       "</div>"
      ],
      "text/plain": [
       "                                                  title  \\\n",
       "6834   Conservatives Can’t Believe Canadian PM Would...   \n",
       "6852   Republicans Punish Georgia Governor For Refus...   \n",
       "\n",
       "                                                   text subject  \\\n",
       "6834  Canada s new liberal Prime Minister went viral...    News   \n",
       "6852  Georgia conservatives really wanted to enshrin...    News   \n",
       "\n",
       "                date  len_sent  \n",
       "6834  April 18, 2016       599  \n",
       "6852  April 17, 2016       394  "
      ]
     },
     "metadata": {},
     "output_type": "display_data"
    }
   ],
   "source": [
    "fake_news_df = fake_news_df[fake_news_df['len_sent'] > 20].reset_index(drop=True)\n",
    "display(fake_news_df.shape, fake_news_df.sample(2))"
   ]
  },
  {
   "cell_type": "code",
   "execution_count": 23,
   "metadata": {},
   "outputs": [
    {
     "data": {
      "text/plain": [
       "News               9050\n",
       "politics           6076\n",
       "left-news          4175\n",
       "Government News    1436\n",
       "US_News             783\n",
       "Middle-east         778\n",
       "Name: subject, dtype: int64"
      ]
     },
     "execution_count": 23,
     "metadata": {},
     "output_type": "execute_result"
    }
   ],
   "source": [
    "fake_news_df['subject'].value_counts()"
   ]
  },
  {
   "cell_type": "code",
   "execution_count": 24,
   "metadata": {},
   "outputs": [
    {
     "data": {
      "text/html": [
       "<div>\n",
       "<style scoped>\n",
       "    .dataframe tbody tr th:only-of-type {\n",
       "        vertical-align: middle;\n",
       "    }\n",
       "\n",
       "    .dataframe tbody tr th {\n",
       "        vertical-align: top;\n",
       "    }\n",
       "\n",
       "    .dataframe thead tr th {\n",
       "        text-align: left;\n",
       "    }\n",
       "\n",
       "    .dataframe thead tr:last-of-type th {\n",
       "        text-align: right;\n",
       "    }\n",
       "</style>\n",
       "<table border=\"1\" class=\"dataframe\">\n",
       "  <thead>\n",
       "    <tr>\n",
       "      <th></th>\n",
       "      <th colspan=\"8\" halign=\"left\">len_sent</th>\n",
       "    </tr>\n",
       "    <tr>\n",
       "      <th></th>\n",
       "      <th>count</th>\n",
       "      <th>mean</th>\n",
       "      <th>std</th>\n",
       "      <th>min</th>\n",
       "      <th>25%</th>\n",
       "      <th>50%</th>\n",
       "      <th>75%</th>\n",
       "      <th>max</th>\n",
       "    </tr>\n",
       "    <tr>\n",
       "      <th>subject</th>\n",
       "      <th></th>\n",
       "      <th></th>\n",
       "      <th></th>\n",
       "      <th></th>\n",
       "      <th></th>\n",
       "      <th></th>\n",
       "      <th></th>\n",
       "      <th></th>\n",
       "    </tr>\n",
       "  </thead>\n",
       "  <tbody>\n",
       "    <tr>\n",
       "      <th>Government News</th>\n",
       "      <td>1436.0</td>\n",
       "      <td>422.641365</td>\n",
       "      <td>388.364912</td>\n",
       "      <td>21.0</td>\n",
       "      <td>197.0</td>\n",
       "      <td>328.0</td>\n",
       "      <td>532.50</td>\n",
       "      <td>4547.0</td>\n",
       "    </tr>\n",
       "    <tr>\n",
       "      <th>Middle-east</th>\n",
       "      <td>778.0</td>\n",
       "      <td>770.447301</td>\n",
       "      <td>1039.657765</td>\n",
       "      <td>24.0</td>\n",
       "      <td>181.0</td>\n",
       "      <td>350.5</td>\n",
       "      <td>919.25</td>\n",
       "      <td>8123.0</td>\n",
       "    </tr>\n",
       "    <tr>\n",
       "      <th>News</th>\n",
       "      <td>9050.0</td>\n",
       "      <td>440.269945</td>\n",
       "      <td>151.671089</td>\n",
       "      <td>34.0</td>\n",
       "      <td>343.0</td>\n",
       "      <td>409.0</td>\n",
       "      <td>505.00</td>\n",
       "      <td>3909.0</td>\n",
       "    </tr>\n",
       "    <tr>\n",
       "      <th>US_News</th>\n",
       "      <td>783.0</td>\n",
       "      <td>778.392082</td>\n",
       "      <td>1048.512705</td>\n",
       "      <td>24.0</td>\n",
       "      <td>181.0</td>\n",
       "      <td>354.0</td>\n",
       "      <td>927.00</td>\n",
       "      <td>8123.0</td>\n",
       "    </tr>\n",
       "    <tr>\n",
       "      <th>left-news</th>\n",
       "      <td>4175.0</td>\n",
       "      <td>418.351856</td>\n",
       "      <td>360.366879</td>\n",
       "      <td>21.0</td>\n",
       "      <td>212.0</td>\n",
       "      <td>337.0</td>\n",
       "      <td>525.00</td>\n",
       "      <td>7019.0</td>\n",
       "    </tr>\n",
       "    <tr>\n",
       "      <th>politics</th>\n",
       "      <td>6076.0</td>\n",
       "      <td>389.046741</td>\n",
       "      <td>369.820987</td>\n",
       "      <td>21.0</td>\n",
       "      <td>182.0</td>\n",
       "      <td>306.0</td>\n",
       "      <td>491.00</td>\n",
       "      <td>7019.0</td>\n",
       "    </tr>\n",
       "  </tbody>\n",
       "</table>\n",
       "</div>"
      ],
      "text/plain": [
       "                len_sent                                                       \\\n",
       "                   count        mean          std   min    25%    50%     75%   \n",
       "subject                                                                         \n",
       "Government News   1436.0  422.641365   388.364912  21.0  197.0  328.0  532.50   \n",
       "Middle-east        778.0  770.447301  1039.657765  24.0  181.0  350.5  919.25   \n",
       "News              9050.0  440.269945   151.671089  34.0  343.0  409.0  505.00   \n",
       "US_News            783.0  778.392082  1048.512705  24.0  181.0  354.0  927.00   \n",
       "left-news         4175.0  418.351856   360.366879  21.0  212.0  337.0  525.00   \n",
       "politics          6076.0  389.046741   369.820987  21.0  182.0  306.0  491.00   \n",
       "\n",
       "                         \n",
       "                    max  \n",
       "subject                  \n",
       "Government News  4547.0  \n",
       "Middle-east      8123.0  \n",
       "News             3909.0  \n",
       "US_News          8123.0  \n",
       "left-news        7019.0  \n",
       "politics         7019.0  "
      ]
     },
     "execution_count": 24,
     "metadata": {},
     "output_type": "execute_result"
    }
   ],
   "source": [
    "# Analyse the description of each group in the subject feature\n",
    "fake_news_df.groupby(['subject']).describe()"
   ]
  },
  {
   "cell_type": "code",
   "execution_count": 25,
   "metadata": {},
   "outputs": [],
   "source": [
    "# Adding real_fake feature in order to identify the True or Fake News\n",
    "fake_news_df['real_or_fake'] = 0"
   ]
  },
  {
   "cell_type": "code",
   "execution_count": 26,
   "metadata": {},
   "outputs": [
    {
     "name": "stdout",
     "output_type": "stream",
     "text": [
      "Shape of Fake News:  (22298, 6)\n"
     ]
    }
   ],
   "source": [
    "print(\"Shape of Fake News: \", fake_news_df.shape)"
   ]
  },
  {
   "cell_type": "code",
   "execution_count": null,
   "metadata": {},
   "outputs": [],
   "source": []
  },
  {
   "cell_type": "markdown",
   "metadata": {},
   "source": [
    "#### TRUE News"
   ]
  },
  {
   "cell_type": "code",
   "execution_count": 27,
   "metadata": {},
   "outputs": [],
   "source": [
    "true_news_df['text'] = true_news_df['text'].apply(lambda x: remove_html(x))\n",
    "true_news_df['text'] = true_news_df['text'].apply(lambda x: remove_accented_chars(x))\n",
    "true_news_df['text'] = true_news_df['text'].apply(lambda x: remove_special_characters(x))\n",
    "true_news_df['text'] = true_news_df['text'].apply(lambda x: remove_white_space(x))\n",
    "true_news_df['len_sent'] = true_news_df['text'].apply(lambda x: len_text(x)) "
   ]
  },
  {
   "cell_type": "code",
   "execution_count": 28,
   "metadata": {},
   "outputs": [
    {
     "data": {
      "text/html": [
       "<div>\n",
       "<style scoped>\n",
       "    .dataframe tbody tr th:only-of-type {\n",
       "        vertical-align: middle;\n",
       "    }\n",
       "\n",
       "    .dataframe tbody tr th {\n",
       "        vertical-align: top;\n",
       "    }\n",
       "\n",
       "    .dataframe thead th {\n",
       "        text-align: right;\n",
       "    }\n",
       "</style>\n",
       "<table border=\"1\" class=\"dataframe\">\n",
       "  <thead>\n",
       "    <tr style=\"text-align: right;\">\n",
       "      <th></th>\n",
       "      <th>title</th>\n",
       "      <th>text</th>\n",
       "      <th>subject</th>\n",
       "      <th>date</th>\n",
       "      <th>len_sent</th>\n",
       "    </tr>\n",
       "  </thead>\n",
       "  <tbody>\n",
       "    <tr>\n",
       "      <th>8970</th>\n",
       "      <td>Graphic: Supreme Court roundup</td>\n",
       "      <td></td>\n",
       "      <td>politicsNews</td>\n",
       "      <td>June 16, 2016</td>\n",
       "      <td>0</td>\n",
       "    </tr>\n",
       "  </tbody>\n",
       "</table>\n",
       "</div>"
      ],
      "text/plain": [
       "                               title text       subject            date  \\\n",
       "8970  Graphic: Supreme Court roundup       politicsNews  June 16, 2016    \n",
       "\n",
       "      len_sent  \n",
       "8970         0  "
      ]
     },
     "execution_count": 28,
     "metadata": {},
     "output_type": "execute_result"
    }
   ],
   "source": [
    "# Check the number of sentences below 10 word length\n",
    "true_news_df[true_news_df['len_sent'] < 21].sort_values(by=\"len_sent\",ascending=False)"
   ]
  },
  {
   "cell_type": "code",
   "execution_count": 29,
   "metadata": {},
   "outputs": [
    {
     "data": {
      "text/html": [
       "<div>\n",
       "<style scoped>\n",
       "    .dataframe tbody tr th:only-of-type {\n",
       "        vertical-align: middle;\n",
       "    }\n",
       "\n",
       "    .dataframe tbody tr th {\n",
       "        vertical-align: top;\n",
       "    }\n",
       "\n",
       "    .dataframe thead tr th {\n",
       "        text-align: left;\n",
       "    }\n",
       "\n",
       "    .dataframe thead tr:last-of-type th {\n",
       "        text-align: right;\n",
       "    }\n",
       "</style>\n",
       "<table border=\"1\" class=\"dataframe\">\n",
       "  <thead>\n",
       "    <tr>\n",
       "      <th></th>\n",
       "      <th colspan=\"8\" halign=\"left\">len_sent</th>\n",
       "    </tr>\n",
       "    <tr>\n",
       "      <th></th>\n",
       "      <th>count</th>\n",
       "      <th>mean</th>\n",
       "      <th>std</th>\n",
       "      <th>min</th>\n",
       "      <th>25%</th>\n",
       "      <th>50%</th>\n",
       "      <th>75%</th>\n",
       "      <th>max</th>\n",
       "    </tr>\n",
       "    <tr>\n",
       "      <th>subject</th>\n",
       "      <th></th>\n",
       "      <th></th>\n",
       "      <th></th>\n",
       "      <th></th>\n",
       "      <th></th>\n",
       "      <th></th>\n",
       "      <th></th>\n",
       "      <th></th>\n",
       "    </tr>\n",
       "  </thead>\n",
       "  <tbody>\n",
       "    <tr>\n",
       "      <th>politicsNews</th>\n",
       "      <td>11272.0</td>\n",
       "      <td>406.239088</td>\n",
       "      <td>287.164243</td>\n",
       "      <td>0.0</td>\n",
       "      <td>152.0</td>\n",
       "      <td>383.0</td>\n",
       "      <td>569.0</td>\n",
       "      <td>5141.0</td>\n",
       "    </tr>\n",
       "    <tr>\n",
       "      <th>worldnews</th>\n",
       "      <td>10145.0</td>\n",
       "      <td>358.979694</td>\n",
       "      <td>254.803380</td>\n",
       "      <td>22.0</td>\n",
       "      <td>145.0</td>\n",
       "      <td>323.0</td>\n",
       "      <td>485.0</td>\n",
       "      <td>2925.0</td>\n",
       "    </tr>\n",
       "  </tbody>\n",
       "</table>\n",
       "</div>"
      ],
      "text/plain": [
       "             len_sent                                                     \\\n",
       "                count        mean         std   min    25%    50%    75%   \n",
       "subject                                                                    \n",
       "politicsNews  11272.0  406.239088  287.164243   0.0  152.0  383.0  569.0   \n",
       "worldnews     10145.0  358.979694  254.803380  22.0  145.0  323.0  485.0   \n",
       "\n",
       "                      \n",
       "                 max  \n",
       "subject               \n",
       "politicsNews  5141.0  \n",
       "worldnews     2925.0  "
      ]
     },
     "execution_count": 29,
     "metadata": {},
     "output_type": "execute_result"
    }
   ],
   "source": [
    "# Analyse the description of each group in the subject feature\n",
    "true_news_df.groupby(['subject']).describe()"
   ]
  },
  {
   "cell_type": "code",
   "execution_count": 30,
   "metadata": {},
   "outputs": [
    {
     "data": {
      "text/plain": [
       "(21416, 5)"
      ]
     },
     "metadata": {},
     "output_type": "display_data"
    },
    {
     "data": {
      "text/html": [
       "<div>\n",
       "<style scoped>\n",
       "    .dataframe tbody tr th:only-of-type {\n",
       "        vertical-align: middle;\n",
       "    }\n",
       "\n",
       "    .dataframe tbody tr th {\n",
       "        vertical-align: top;\n",
       "    }\n",
       "\n",
       "    .dataframe thead th {\n",
       "        text-align: right;\n",
       "    }\n",
       "</style>\n",
       "<table border=\"1\" class=\"dataframe\">\n",
       "  <thead>\n",
       "    <tr style=\"text-align: right;\">\n",
       "      <th></th>\n",
       "      <th>title</th>\n",
       "      <th>text</th>\n",
       "      <th>subject</th>\n",
       "      <th>date</th>\n",
       "      <th>len_sent</th>\n",
       "    </tr>\n",
       "  </thead>\n",
       "  <tbody>\n",
       "    <tr>\n",
       "      <th>9218</th>\n",
       "      <td>Judge issues final order upholding Alabama sam...</td>\n",
       "      <td>Reuters A federal judge in Alabama has issued ...</td>\n",
       "      <td>politicsNews</td>\n",
       "      <td>June 8, 2016</td>\n",
       "      <td>357</td>\n",
       "    </tr>\n",
       "    <tr>\n",
       "      <th>17543</th>\n",
       "      <td>Facebook will help investigators release Russi...</td>\n",
       "      <td>WASHINGTON Reuters Facebook Inc FB.O Chief Ope...</td>\n",
       "      <td>worldnews</td>\n",
       "      <td>October 11, 2017</td>\n",
       "      <td>771</td>\n",
       "    </tr>\n",
       "  </tbody>\n",
       "</table>\n",
       "</div>"
      ],
      "text/plain": [
       "                                                   title  \\\n",
       "9218   Judge issues final order upholding Alabama sam...   \n",
       "17543  Facebook will help investigators release Russi...   \n",
       "\n",
       "                                                    text       subject  \\\n",
       "9218   Reuters A federal judge in Alabama has issued ...  politicsNews   \n",
       "17543  WASHINGTON Reuters Facebook Inc FB.O Chief Ope...     worldnews   \n",
       "\n",
       "                    date  len_sent  \n",
       "9218       June 8, 2016        357  \n",
       "17543  October 11, 2017        771  "
      ]
     },
     "metadata": {},
     "output_type": "display_data"
    }
   ],
   "source": [
    "true_news_df = true_news_df[true_news_df['len_sent'] > 20].reset_index(drop=True)\n",
    "display(true_news_df.shape, true_news_df.sample(2))"
   ]
  },
  {
   "cell_type": "code",
   "execution_count": 31,
   "metadata": {},
   "outputs": [
    {
     "data": {
      "text/plain": [
       "politicsNews    11271\n",
       "worldnews       10145\n",
       "Name: subject, dtype: int64"
      ]
     },
     "execution_count": 31,
     "metadata": {},
     "output_type": "execute_result"
    }
   ],
   "source": [
    "true_news_df['subject'].value_counts()"
   ]
  },
  {
   "cell_type": "code",
   "execution_count": 32,
   "metadata": {},
   "outputs": [
    {
     "data": {
      "text/html": [
       "<div>\n",
       "<style scoped>\n",
       "    .dataframe tbody tr th:only-of-type {\n",
       "        vertical-align: middle;\n",
       "    }\n",
       "\n",
       "    .dataframe tbody tr th {\n",
       "        vertical-align: top;\n",
       "    }\n",
       "\n",
       "    .dataframe thead tr th {\n",
       "        text-align: left;\n",
       "    }\n",
       "\n",
       "    .dataframe thead tr:last-of-type th {\n",
       "        text-align: right;\n",
       "    }\n",
       "</style>\n",
       "<table border=\"1\" class=\"dataframe\">\n",
       "  <thead>\n",
       "    <tr>\n",
       "      <th></th>\n",
       "      <th colspan=\"8\" halign=\"left\">len_sent</th>\n",
       "    </tr>\n",
       "    <tr>\n",
       "      <th></th>\n",
       "      <th>count</th>\n",
       "      <th>mean</th>\n",
       "      <th>std</th>\n",
       "      <th>min</th>\n",
       "      <th>25%</th>\n",
       "      <th>50%</th>\n",
       "      <th>75%</th>\n",
       "      <th>max</th>\n",
       "    </tr>\n",
       "    <tr>\n",
       "      <th>subject</th>\n",
       "      <th></th>\n",
       "      <th></th>\n",
       "      <th></th>\n",
       "      <th></th>\n",
       "      <th></th>\n",
       "      <th></th>\n",
       "      <th></th>\n",
       "      <th></th>\n",
       "    </tr>\n",
       "  </thead>\n",
       "  <tbody>\n",
       "    <tr>\n",
       "      <th>politicsNews</th>\n",
       "      <td>11271.0</td>\n",
       "      <td>406.275131</td>\n",
       "      <td>287.151485</td>\n",
       "      <td>21.0</td>\n",
       "      <td>152.0</td>\n",
       "      <td>383.0</td>\n",
       "      <td>569.0</td>\n",
       "      <td>5141.0</td>\n",
       "    </tr>\n",
       "    <tr>\n",
       "      <th>worldnews</th>\n",
       "      <td>10145.0</td>\n",
       "      <td>358.979694</td>\n",
       "      <td>254.803380</td>\n",
       "      <td>22.0</td>\n",
       "      <td>145.0</td>\n",
       "      <td>323.0</td>\n",
       "      <td>485.0</td>\n",
       "      <td>2925.0</td>\n",
       "    </tr>\n",
       "  </tbody>\n",
       "</table>\n",
       "</div>"
      ],
      "text/plain": [
       "             len_sent                                                     \\\n",
       "                count        mean         std   min    25%    50%    75%   \n",
       "subject                                                                    \n",
       "politicsNews  11271.0  406.275131  287.151485  21.0  152.0  383.0  569.0   \n",
       "worldnews     10145.0  358.979694  254.803380  22.0  145.0  323.0  485.0   \n",
       "\n",
       "                      \n",
       "                 max  \n",
       "subject               \n",
       "politicsNews  5141.0  \n",
       "worldnews     2925.0  "
      ]
     },
     "execution_count": 32,
     "metadata": {},
     "output_type": "execute_result"
    }
   ],
   "source": [
    "# Analyse the description of each group in the subject feature\n",
    "true_news_df.groupby(['subject']).describe()"
   ]
  },
  {
   "cell_type": "code",
   "execution_count": 33,
   "metadata": {},
   "outputs": [],
   "source": [
    "# Adding real_fake feature in order to identify the True or Fake News\n",
    "true_news_df['real_or_fake'] = 1"
   ]
  },
  {
   "cell_type": "code",
   "execution_count": 34,
   "metadata": {},
   "outputs": [
    {
     "name": "stdout",
     "output_type": "stream",
     "text": [
      "Shape of True News:  (21416, 6)\n"
     ]
    }
   ],
   "source": [
    "print(\"Shape of True News: \", true_news_df.shape)"
   ]
  },
  {
   "cell_type": "code",
   "execution_count": 35,
   "metadata": {},
   "outputs": [
    {
     "name": "stdout",
     "output_type": "stream",
     "text": [
      "Shape of Fake News:  (21416, 6)\n"
     ]
    }
   ],
   "source": [
    "# Make sure to have same number of news instances in both the dataframe\n",
    "fake_news_df = fake_news_df.sample(true_news_df.shape[0]).reset_index(drop=True)\n",
    "print(\"Shape of Fake News: \", fake_news_df.shape)"
   ]
  },
  {
   "cell_type": "code",
   "execution_count": null,
   "metadata": {},
   "outputs": [],
   "source": []
  },
  {
   "cell_type": "markdown",
   "metadata": {},
   "source": [
    "### Modelling Section - Pre-Requirement"
   ]
  },
  {
   "cell_type": "code",
   "execution_count": 36,
   "metadata": {},
   "outputs": [
    {
     "data": {
      "text/plain": [
       "(42832, 6)"
      ]
     },
     "metadata": {},
     "output_type": "display_data"
    },
    {
     "data": {
      "text/html": [
       "<div>\n",
       "<style scoped>\n",
       "    .dataframe tbody tr th:only-of-type {\n",
       "        vertical-align: middle;\n",
       "    }\n",
       "\n",
       "    .dataframe tbody tr th {\n",
       "        vertical-align: top;\n",
       "    }\n",
       "\n",
       "    .dataframe thead th {\n",
       "        text-align: right;\n",
       "    }\n",
       "</style>\n",
       "<table border=\"1\" class=\"dataframe\">\n",
       "  <thead>\n",
       "    <tr style=\"text-align: right;\">\n",
       "      <th></th>\n",
       "      <th>title</th>\n",
       "      <th>text</th>\n",
       "      <th>subject</th>\n",
       "      <th>date</th>\n",
       "      <th>len_sent</th>\n",
       "      <th>real_or_fake</th>\n",
       "    </tr>\n",
       "  </thead>\n",
       "  <tbody>\n",
       "    <tr>\n",
       "      <th>0</th>\n",
       "      <td>Putin says Russia will respond if Russian medi...</td>\n",
       "      <td>SOCHI Russia Reuters Russian President Vladimi...</td>\n",
       "      <td>worldnews</td>\n",
       "      <td>October 19, 2017</td>\n",
       "      <td>63</td>\n",
       "      <td>1</td>\n",
       "    </tr>\n",
       "    <tr>\n",
       "      <th>1</th>\n",
       "      <td>Kenya watchdog says investigating police over ...</td>\n",
       "      <td>This September 29 has been corrected to fix da...</td>\n",
       "      <td>worldnews</td>\n",
       "      <td>September 29, 2017</td>\n",
       "      <td>417</td>\n",
       "      <td>1</td>\n",
       "    </tr>\n",
       "  </tbody>\n",
       "</table>\n",
       "</div>"
      ],
      "text/plain": [
       "                                               title  \\\n",
       "0  Putin says Russia will respond if Russian medi...   \n",
       "1  Kenya watchdog says investigating police over ...   \n",
       "\n",
       "                                                text    subject  \\\n",
       "0  SOCHI Russia Reuters Russian President Vladimi...  worldnews   \n",
       "1  This September 29 has been corrected to fix da...  worldnews   \n",
       "\n",
       "                  date  len_sent  real_or_fake  \n",
       "0    October 19, 2017         63             1  \n",
       "1  September 29, 2017        417             1  "
      ]
     },
     "metadata": {},
     "output_type": "display_data"
    }
   ],
   "source": [
    "final_df = pd.concat([fake_news_df,true_news_df])\n",
    "final_df = final_df.sample(frac=1).reset_index(drop=True)\n",
    "display(final_df.shape, final_df.head(2))"
   ]
  },
  {
   "cell_type": "code",
   "execution_count": 37,
   "metadata": {},
   "outputs": [
    {
     "data": {
      "text/plain": [
       "42832"
      ]
     },
     "execution_count": 37,
     "metadata": {},
     "output_type": "execute_result"
    }
   ],
   "source": [
    "### Converting text-information into list\n",
    "news_text = final_df['text'].to_list()\n",
    "len(news_text)"
   ]
  },
  {
   "cell_type": "code",
   "execution_count": 38,
   "metadata": {},
   "outputs": [],
   "source": [
    "# Creating One-Hot encoding for the 'real_or_fake' feature\n",
    "le = LabelEncoder()\n",
    "oe = OneHotEncoder(sparse=True)"
   ]
  },
  {
   "cell_type": "code",
   "execution_count": 39,
   "metadata": {},
   "outputs": [],
   "source": [
    "real_fake = oe.fit_transform(final_df.real_or_fake.values.reshape(-1,1))\n",
    "# real_fake"
   ]
  },
  {
   "cell_type": "code",
   "execution_count": 40,
   "metadata": {},
   "outputs": [],
   "source": [
    "MAX_SEQUENCE_LENGTH = 250\n",
    "MAX_NB_WORDS = 50000\n",
    "EMBEDDING_DIM = 100\n",
    "tokenizer =Tokenizer(num_words=MAX_NB_WORDS, filters='!\"#$%&()*+,-./:;<=>?@[\\]^_`{|}~', lower=True)"
   ]
  },
  {
   "cell_type": "code",
   "execution_count": 41,
   "metadata": {},
   "outputs": [
    {
     "name": "stdout",
     "output_type": "stream",
     "text": [
      "Found 153632 unique tokens.\n"
     ]
    }
   ],
   "source": [
    "tokenizer.fit_on_texts(final_df['text'].values)  #  to update the internal vocabulary for the texts list\n",
    "word_index = tokenizer.word_index \n",
    "print('Found %s unique tokens.' % len(word_index))"
   ]
  },
  {
   "cell_type": "code",
   "execution_count": 42,
   "metadata": {},
   "outputs": [],
   "source": [
    "# print(\"Word Index Sample: \", word_index)"
   ]
  },
  {
   "cell_type": "markdown",
   "metadata": {},
   "source": [
    "![Word Index](Image/word_index.JPG)"
   ]
  },
  {
   "cell_type": "code",
   "execution_count": 43,
   "metadata": {},
   "outputs": [
    {
     "name": "stdout",
     "output_type": "stream",
     "text": [
      "Shape of data tensor: (42832, 250)\n"
     ]
    }
   ],
   "source": [
    "news_text = tokenizer.texts_to_sequences(final_df['text'].values) # converting tokens of text corpus into a sequence of integers\n",
    "news_text = pad_sequences(news_text, maxlen=MAX_SEQUENCE_LENGTH)\n",
    "print('Shape of data tensor:', news_text.shape)"
   ]
  },
  {
   "cell_type": "code",
   "execution_count": 44,
   "metadata": {},
   "outputs": [
    {
     "name": "stdout",
     "output_type": "stream",
     "text": [
      "Shape of label tensor: (42832, 2)\n"
     ]
    }
   ],
   "source": [
    "Y = pd.get_dummies(final_df['real_or_fake']).values\n",
    "print('Shape of label tensor:', Y.shape)"
   ]
  },
  {
   "cell_type": "code",
   "execution_count": null,
   "metadata": {},
   "outputs": [],
   "source": []
  },
  {
   "cell_type": "code",
   "execution_count": 45,
   "metadata": {},
   "outputs": [
    {
     "name": "stdout",
     "output_type": "stream",
     "text": [
      "(34265, 250) (34265, 2)\n",
      "(8567, 250) (8567, 2)\n"
     ]
    }
   ],
   "source": [
    "X_train, X_test, y_train, y_test= train_test_split(news_text, Y, test_size=0.2, random_state=100)\n",
    "print(X_train.shape,y_train.shape)\n",
    "print(X_test.shape,y_test.shape)"
   ]
  },
  {
   "cell_type": "code",
   "execution_count": 46,
   "metadata": {},
   "outputs": [
    {
     "name": "stdout",
     "output_type": "stream",
     "text": [
      "Model: \"sequential\"\n",
      "_________________________________________________________________\n",
      " Layer (type)                Output Shape              Param #   \n",
      "=================================================================\n",
      " embedding (Embedding)       (None, 250, 100)          5000000   \n",
      "                                                                 \n",
      " spatial_dropout1d (SpatialD  (None, 250, 100)         0         \n",
      " ropout1D)                                                       \n",
      "                                                                 \n",
      " lstm (LSTM)                 (None, 100)               80400     \n",
      "                                                                 \n",
      " dense (Dense)               (None, 2)                 202       \n",
      "                                                                 \n",
      "=================================================================\n",
      "Total params: 5,080,602\n",
      "Trainable params: 5,080,602\n",
      "Non-trainable params: 0\n",
      "_________________________________________________________________\n",
      "None\n"
     ]
    }
   ],
   "source": [
    "model = Sequential()\n",
    "model.add(Embedding(MAX_NB_WORDS, EMBEDDING_DIM, input_length=MAX_SEQUENCE_LENGTH))\n",
    "model.add(SpatialDropout1D(0.2))\n",
    "model.add(LSTM(100, dropout=0.2, recurrent_dropout=0.2))\n",
    "model.add(Dense(2, activation='softmax'))\n",
    "model.compile(loss='categorical_crossentropy', optimizer='adam', metrics=['accuracy'])\n",
    "print(model.summary())"
   ]
  },
  {
   "cell_type": "code",
   "execution_count": 47,
   "metadata": {},
   "outputs": [
    {
     "name": "stdout",
     "output_type": "stream",
     "text": [
      "Model: \"sequential\"\n",
      "_________________________________________________________________\n",
      " Layer (type)                Output Shape              Param #   \n",
      "=================================================================\n",
      " embedding (Embedding)       (None, 250, 100)          5000000   \n",
      "                                                                 \n",
      " spatial_dropout1d (SpatialD  (None, 250, 100)         0         \n",
      " ropout1D)                                                       \n",
      "                                                                 \n",
      " lstm (LSTM)                 (None, 100)               80400     \n",
      "                                                                 \n",
      " dense (Dense)               (None, 2)                 202       \n",
      "                                                                 \n",
      "=================================================================\n",
      "Total params: 5,080,602\n",
      "Trainable params: 5,080,602\n",
      "Non-trainable params: 0\n",
      "_________________________________________________________________\n"
     ]
    }
   ],
   "source": [
    "model.summary()"
   ]
  },
  {
   "cell_type": "code",
   "execution_count": 48,
   "metadata": {},
   "outputs": [
    {
     "name": "stdout",
     "output_type": "stream",
     "text": [
      "You must install pydot (`pip install pydot`) and install graphviz (see instructions at https://graphviz.gitlab.io/download/) for plot_model/model_to_dot to work.\n"
     ]
    }
   ],
   "source": [
    "tf.keras.utils.plot_model(model, to_file='model_plot.png', show_shapes=True, show_layer_names=True)"
   ]
  },
  {
   "cell_type": "code",
   "execution_count": 49,
   "metadata": {},
   "outputs": [
    {
     "name": "stdout",
     "output_type": "stream",
     "text": [
      "Epoch 1/3\n",
      "1071/1071 [==============================] - ETA: 0s - loss: 0.1040 - accuracy: 0.9615WARNING:tensorflow:Early stopping conditioned on metric `val_loss` which is not available. Available metrics are: loss,accuracy\n",
      "1071/1071 [==============================] - 438s 406ms/step - loss: 0.1040 - accuracy: 0.9615\n",
      "Epoch 2/3\n",
      "1071/1071 [==============================] - ETA: 0s - loss: 0.0413 - accuracy: 0.9871WARNING:tensorflow:Early stopping conditioned on metric `val_loss` which is not available. Available metrics are: loss,accuracy\n",
      "1071/1071 [==============================] - 439s 410ms/step - loss: 0.0413 - accuracy: 0.9871\n",
      "Epoch 3/3\n",
      "1071/1071 [==============================] - ETA: 0s - loss: 0.1053 - accuracy: 0.9634WARNING:tensorflow:Early stopping conditioned on metric `val_loss` which is not available. Available metrics are: loss,accuracy\n",
      "1071/1071 [==============================] - 542s 506ms/step - loss: 0.1053 - accuracy: 0.9634\n"
     ]
    }
   ],
   "source": [
    "epochs = 3\n",
    "batch_size = 32\n",
    "\n",
    "history = model.fit(X_train, y_train, epochs=epochs, batch_size=batch_size,callbacks=[EarlyStopping(monitor='val_loss', patience=3, min_delta=0.0001)])"
   ]
  },
  {
   "cell_type": "code",
   "execution_count": 50,
   "metadata": {},
   "outputs": [
    {
     "name": "stdout",
     "output_type": "stream",
     "text": [
      "268/268 [==============================] - 18s 63ms/step - loss: 0.0743 - accuracy: 0.9777\n",
      "Test set\n",
      "  Loss: 0.074\n",
      "  Accuracy: 0.978\n"
     ]
    }
   ],
   "source": [
    "accr = model.evaluate(X_test,y_test)\n",
    "print('Test set\\n  Loss: {:0.3f}\\n  Accuracy: {:0.3f}'.format(accr[0],accr[1]))"
   ]
  },
  {
   "cell_type": "code",
   "execution_count": 56,
   "metadata": {},
   "outputs": [
    {
     "name": "stdout",
     "output_type": "stream",
     "text": [
      "1/1 [==============================] - 0s 432ms/step\n",
      "[[0.06032694 0.93967307]] real\n"
     ]
    }
   ],
   "source": [
    "news_content = [\"\"\"Russian embassy in Canada weaponizes social media to fuel support for Ukraine invasion.\"\"\"]\n",
    "seq = tokenizer.texts_to_sequences(news_content)\n",
    "padded = pad_sequences(seq, maxlen=MAX_SEQUENCE_LENGTH)\n",
    "pred = model.predict(padded)\n",
    "labels = [\"fake\", \"real\"]\n",
    "print(pred, labels[np.argmax(pred)])"
   ]
  },
  {
   "cell_type": "code",
   "execution_count": 57,
   "metadata": {},
   "outputs": [
    {
     "name": "stdout",
     "output_type": "stream",
     "text": [
      "--- 1527.5098209381104 seconds ---\n"
     ]
    }
   ],
   "source": [
    "print(\"--- %s seconds ---\" % (time.time() - start_time))"
   ]
  },
  {
   "cell_type": "code",
   "execution_count": null,
   "metadata": {},
   "outputs": [],
   "source": []
  }
 ],
 "metadata": {
  "kernelspec": {
   "display_name": "Python 3 (ipykernel)",
   "language": "python",
   "name": "python3"
  },
  "language_info": {
   "codemirror_mode": {
    "name": "ipython",
    "version": 3
   },
   "file_extension": ".py",
   "mimetype": "text/x-python",
   "name": "python",
   "nbconvert_exporter": "python",
   "pygments_lexer": "ipython3",
   "version": "3.10.4"
  },
  "vscode": {
   "interpreter": {
    "hash": "aaf0c9af9c15e2b81ba96803a9326656c5add24c3ac6d6b00ab7ba7f31f2c52d"
   }
  }
 },
 "nbformat": 4,
 "nbformat_minor": 2
}
